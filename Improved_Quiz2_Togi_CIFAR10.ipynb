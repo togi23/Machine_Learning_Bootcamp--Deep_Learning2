{
 "cells": [
  {
   "cell_type": "code",
   "execution_count": null,
   "metadata": {
    "id": "cAHRDsXbmuWf"
   },
   "outputs": [],
   "source": [
    "#Import Libraries\n",
    "import numpy as np\n",
    "import matplotlib.pyplot as plt\n",
    "from tensorflow import keras\n",
    "from keras.models import Sequential\n",
    "from keras.layers import Dense, Conv2D, Activation, Flatten, MaxPooling2D\n",
    "from keras.datasets import cifar10\n",
    "from keras.utils import to_categorical"
   ]
  },
  {
   "cell_type": "code",
   "execution_count": null,
   "metadata": {
    "colab": {
     "base_uri": "https://localhost:8080/",
     "height": 85
    },
    "id": "eFaPigLIoHsS",
    "outputId": "de87b068-8fe6-49c0-f775-735f98ca4115"
   },
   "outputs": [
    {
     "name": "stdout",
     "output_type": "stream",
     "text": [
      "X_train shape: (50000, 32, 32, 3)\n",
      "y_train shape: (50000, 1)\n",
      "50000 train samples\n",
      "10000 test samples\n"
     ]
    }
   ],
   "source": [
    "#Data loading and splitting it into train and test sets\n",
    "(X_train, y_train), (X_test, y_test) = cifar10.load_data()\n",
    "print('X_train shape:', X_train.shape)\n",
    "print('y_train shape:', y_train.shape)\n",
    "print(X_train.shape[0], 'train samples')\n",
    "print(X_test.shape[0], 'test samples')"
   ]
  },
  {
   "cell_type": "markdown",
   "metadata": {
    "id": "UD00g7uLoi77"
   },
   "source": [
    "Untuk data train memiliki 50000 samples dengan dimensi 32 x 32 pixels dan depth 3, artinya gambar yang dimiliki adalah gambar rgb. Sedangkan untuk feature test ada sebanyak 10000 samples. Datasets terdiri dari 10 kategori dari airplane hingga truck (Multiclass Classification Problem)"
   ]
  },
  {
   "cell_type": "code",
   "execution_count": null,
   "metadata": {
    "id": "FoLAEdAPpGGE"
   },
   "outputs": [],
   "source": [
    "# Data kita normalisasikan dan diubah kedalam bentuk float\n",
    "X_train = X_train.astype('float32')\n",
    "X_test = X_test.astype('float32')\n",
    "X_train /= 255\n",
    "X_test /= 255"
   ]
  },
  {
   "cell_type": "code",
   "execution_count": null,
   "metadata": {
    "colab": {
     "base_uri": "https://localhost:8080/",
     "height": 34
    },
    "id": "1hQha3typkOk",
    "outputId": "597984c8-c9f2-4d18-99c5-58fe070df312"
   },
   "outputs": [
    {
     "name": "stdout",
     "output_type": "stream",
     "text": [
      "[0. 0. 0. 0. 0. 0. 1. 0. 0. 0.]\n"
     ]
    }
   ],
   "source": [
    "#Label Encoding\n",
    "#One-hot encoding for the label\n",
    "y_train_one_hot = to_categorical(y_train)\n",
    "y_test_one_hot = to_categorical(y_test)\n",
    "\n",
    "#print the new label\n",
    "print(y_train_one_hot[0])"
   ]
  },
  {
   "cell_type": "code",
   "execution_count": null,
   "metadata": {
    "colab": {
     "base_uri": "https://localhost:8080/",
     "height": 731
    },
    "id": "L10TP4URqeRN",
    "outputId": "1a37aba1-c83d-409f-adc4-7ac5f3fd2ebb"
   },
   "outputs": [
    {
     "name": "stdout",
     "output_type": "stream",
     "text": [
      "Model: \"sequential\"\n",
      "_________________________________________________________________\n",
      "Layer (type)                 Output Shape              Param #   \n",
      "=================================================================\n",
      "conv2d (Conv2D)              (None, 32, 32, 32)        896       \n",
      "_________________________________________________________________\n",
      "activation (Activation)      (None, 32, 32, 32)        0         \n",
      "_________________________________________________________________\n",
      "conv2d_1 (Conv2D)            (None, 30, 30, 32)        9248      \n",
      "_________________________________________________________________\n",
      "activation_1 (Activation)    (None, 30, 30, 32)        0         \n",
      "_________________________________________________________________\n",
      "max_pooling2d (MaxPooling2D) (None, 15, 15, 32)        0         \n",
      "_________________________________________________________________\n",
      "dropout (Dropout)            (None, 15, 15, 32)        0         \n",
      "_________________________________________________________________\n",
      "conv2d_2 (Conv2D)            (None, 15, 15, 64)        18496     \n",
      "_________________________________________________________________\n",
      "activation_2 (Activation)    (None, 15, 15, 64)        0         \n",
      "_________________________________________________________________\n",
      "conv2d_3 (Conv2D)            (None, 13, 13, 64)        36928     \n",
      "_________________________________________________________________\n",
      "activation_3 (Activation)    (None, 13, 13, 64)        0         \n",
      "_________________________________________________________________\n",
      "max_pooling2d_1 (MaxPooling2 (None, 6, 6, 64)          0         \n",
      "_________________________________________________________________\n",
      "dropout_1 (Dropout)          (None, 6, 6, 64)          0         \n",
      "_________________________________________________________________\n",
      "flatten (Flatten)            (None, 2304)              0         \n",
      "_________________________________________________________________\n",
      "dense (Dense)                (None, 128)               295040    \n",
      "_________________________________________________________________\n",
      "activation_4 (Activation)    (None, 128)               0         \n",
      "_________________________________________________________________\n",
      "dropout_2 (Dropout)          (None, 128)               0         \n",
      "_________________________________________________________________\n",
      "dense_1 (Dense)              (None, 10)                1290      \n",
      "=================================================================\n",
      "Total params: 361,898\n",
      "Trainable params: 361,898\n",
      "Non-trainable params: 0\n",
      "_________________________________________________________________\n"
     ]
    }
   ],
   "source": [
    "#Building the model (Deep CNN)\n",
    "\n",
    "from keras.layers import Dropout\n",
    "\n",
    "model = Sequential()\n",
    "# CONV => RELU => CONV => RELU => POOL => DROPOUT\n",
    "model.add(Conv2D(32, (3, 3), activation='relu', kernel_initializer='he_uniform', padding='same', input_shape=(32, 32, 3)))\n",
    "model.add(Activation('relu'))\n",
    "model.add(Conv2D(32, (3, 3)))\n",
    "model.add(Activation('relu'))\n",
    "model.add(MaxPooling2D(pool_size=(2, 2)))\n",
    "model.add(Dropout(0.4))\n",
    "\n",
    "# CONV => RELU => CONV => RELU => POOL => DROPOUT\n",
    "model.add(Conv2D(64, (3, 3), padding='same'))\n",
    "model.add(Activation('relu'))\n",
    "model.add(Conv2D(64, (3, 3)))\n",
    "model.add(Activation('relu'))\n",
    "model.add(MaxPooling2D(pool_size=(2, 2)))\n",
    "model.add(Dropout(0.4))\n",
    "\n",
    "# FLATTEN => DENSE => RELU => DROPOUT\n",
    "model.add(Flatten())\n",
    "model.add(Dense(128))\n",
    "model.add(Activation('relu'))\n",
    "model.add(Dropout(0.4))\n",
    "\n",
    "model.add(Dense(10, activation='softmax'))\n",
    "\n",
    "opt = keras.optimizers.Adam(learning_rate=0.001)\n",
    "\n",
    "model.compile(optimizer=opt, loss='categorical_crossentropy', metrics=['accuracy'])\n",
    "\n",
    "model.summary()"
   ]
  },
  {
   "cell_type": "code",
   "execution_count": null,
   "metadata": {
    "colab": {
     "base_uri": "https://localhost:8080/",
     "height": 1000
    },
    "id": "09tm353Mrd8m",
    "outputId": "d9555965-9db4-4e14-b4d9-0e70138322ba"
   },
   "outputs": [
    {
     "name": "stdout",
     "output_type": "stream",
     "text": [
      "Epoch 1/100\n",
      "1563/1563 [==============================] - 7s 5ms/step - loss: 1.6358 - accuracy: 0.3955 - val_loss: 1.2200 - val_accuracy: 0.5601\n",
      "Epoch 2/100\n",
      "1563/1563 [==============================] - 7s 4ms/step - loss: 1.2537 - accuracy: 0.5504 - val_loss: 1.0402 - val_accuracy: 0.6338\n",
      "Epoch 3/100\n",
      "1563/1563 [==============================] - 7s 4ms/step - loss: 1.0979 - accuracy: 0.6121 - val_loss: 0.9253 - val_accuracy: 0.6787\n",
      "Epoch 4/100\n",
      "1563/1563 [==============================] - 7s 4ms/step - loss: 1.0136 - accuracy: 0.6417 - val_loss: 0.9023 - val_accuracy: 0.6865\n",
      "Epoch 5/100\n",
      "1563/1563 [==============================] - 7s 4ms/step - loss: 0.9585 - accuracy: 0.6645 - val_loss: 0.8256 - val_accuracy: 0.7077\n",
      "Epoch 6/100\n",
      "1563/1563 [==============================] - 7s 4ms/step - loss: 0.9165 - accuracy: 0.6774 - val_loss: 0.7900 - val_accuracy: 0.7274\n",
      "Epoch 7/100\n",
      "1563/1563 [==============================] - 7s 4ms/step - loss: 0.8903 - accuracy: 0.6884 - val_loss: 0.7871 - val_accuracy: 0.7237\n",
      "Epoch 8/100\n",
      "1563/1563 [==============================] - 7s 4ms/step - loss: 0.8667 - accuracy: 0.6968 - val_loss: 0.7788 - val_accuracy: 0.7206\n",
      "Epoch 9/100\n",
      "1563/1563 [==============================] - 7s 4ms/step - loss: 0.8473 - accuracy: 0.7049 - val_loss: 0.7567 - val_accuracy: 0.7383\n",
      "Epoch 10/100\n",
      "1563/1563 [==============================] - 7s 4ms/step - loss: 0.8295 - accuracy: 0.7098 - val_loss: 0.7601 - val_accuracy: 0.7391\n",
      "Epoch 11/100\n",
      "1563/1563 [==============================] - 7s 4ms/step - loss: 0.8108 - accuracy: 0.7156 - val_loss: 0.7260 - val_accuracy: 0.7446\n",
      "Epoch 12/100\n",
      "1563/1563 [==============================] - 7s 4ms/step - loss: 0.7974 - accuracy: 0.7210 - val_loss: 0.7105 - val_accuracy: 0.7560\n",
      "Epoch 13/100\n",
      "1563/1563 [==============================] - 7s 4ms/step - loss: 0.7891 - accuracy: 0.7240 - val_loss: 0.8196 - val_accuracy: 0.7262\n",
      "Epoch 14/100\n",
      "1563/1563 [==============================] - 7s 4ms/step - loss: 0.7791 - accuracy: 0.7288 - val_loss: 0.7260 - val_accuracy: 0.7519\n",
      "Epoch 15/100\n",
      "1563/1563 [==============================] - 7s 4ms/step - loss: 0.7703 - accuracy: 0.7302 - val_loss: 0.7007 - val_accuracy: 0.7569\n",
      "Epoch 16/100\n",
      "1563/1563 [==============================] - 7s 5ms/step - loss: 0.7600 - accuracy: 0.7333 - val_loss: 0.6864 - val_accuracy: 0.7649\n",
      "Epoch 17/100\n",
      "1563/1563 [==============================] - 7s 4ms/step - loss: 0.7481 - accuracy: 0.7372 - val_loss: 0.6808 - val_accuracy: 0.7665\n",
      "Epoch 18/100\n",
      "1563/1563 [==============================] - 7s 4ms/step - loss: 0.7409 - accuracy: 0.7400 - val_loss: 0.6771 - val_accuracy: 0.7692\n",
      "Epoch 19/100\n",
      "1563/1563 [==============================] - 7s 4ms/step - loss: 0.7308 - accuracy: 0.7454 - val_loss: 0.7372 - val_accuracy: 0.7496\n",
      "Epoch 20/100\n",
      "1563/1563 [==============================] - 7s 4ms/step - loss: 0.7304 - accuracy: 0.7441 - val_loss: 0.6849 - val_accuracy: 0.7631\n",
      "Epoch 21/100\n",
      "1563/1563 [==============================] - 7s 4ms/step - loss: 0.7210 - accuracy: 0.7487 - val_loss: 0.6746 - val_accuracy: 0.7684\n",
      "Epoch 22/100\n",
      "1563/1563 [==============================] - 7s 4ms/step - loss: 0.7177 - accuracy: 0.7524 - val_loss: 0.6667 - val_accuracy: 0.7740\n",
      "Epoch 23/100\n",
      "1563/1563 [==============================] - 7s 4ms/step - loss: 0.7074 - accuracy: 0.7510 - val_loss: 0.6850 - val_accuracy: 0.7702\n",
      "Epoch 24/100\n",
      "1563/1563 [==============================] - 7s 4ms/step - loss: 0.7068 - accuracy: 0.7530 - val_loss: 0.6519 - val_accuracy: 0.7784\n",
      "Epoch 25/100\n",
      "1563/1563 [==============================] - 7s 4ms/step - loss: 0.6995 - accuracy: 0.7549 - val_loss: 0.6754 - val_accuracy: 0.7734\n",
      "Epoch 26/100\n",
      "1563/1563 [==============================] - 7s 4ms/step - loss: 0.6948 - accuracy: 0.7548 - val_loss: 0.6498 - val_accuracy: 0.7783\n",
      "Epoch 27/100\n",
      "1563/1563 [==============================] - 7s 4ms/step - loss: 0.6898 - accuracy: 0.7585 - val_loss: 0.6776 - val_accuracy: 0.7762\n",
      "Epoch 28/100\n",
      "1563/1563 [==============================] - 7s 4ms/step - loss: 0.6856 - accuracy: 0.7606 - val_loss: 0.6407 - val_accuracy: 0.7857\n",
      "Epoch 29/100\n",
      "1563/1563 [==============================] - 7s 4ms/step - loss: 0.6871 - accuracy: 0.7605 - val_loss: 0.6415 - val_accuracy: 0.7834\n",
      "Epoch 30/100\n",
      "1563/1563 [==============================] - 7s 4ms/step - loss: 0.6759 - accuracy: 0.7640 - val_loss: 0.6314 - val_accuracy: 0.7832\n",
      "Epoch 31/100\n",
      "1563/1563 [==============================] - 7s 4ms/step - loss: 0.6790 - accuracy: 0.7641 - val_loss: 0.6633 - val_accuracy: 0.7755\n",
      "Epoch 32/100\n",
      "1563/1563 [==============================] - 7s 4ms/step - loss: 0.6687 - accuracy: 0.7666 - val_loss: 0.6564 - val_accuracy: 0.7799\n",
      "Epoch 33/100\n",
      "1563/1563 [==============================] - 7s 4ms/step - loss: 0.6670 - accuracy: 0.7668 - val_loss: 0.6627 - val_accuracy: 0.7752\n",
      "Epoch 34/100\n",
      "1563/1563 [==============================] - 7s 4ms/step - loss: 0.6655 - accuracy: 0.7685 - val_loss: 0.6512 - val_accuracy: 0.7769\n",
      "Epoch 35/100\n",
      "1563/1563 [==============================] - 7s 4ms/step - loss: 0.6644 - accuracy: 0.7680 - val_loss: 0.6448 - val_accuracy: 0.7838\n",
      "Epoch 36/100\n",
      "1563/1563 [==============================] - 7s 4ms/step - loss: 0.6596 - accuracy: 0.7698 - val_loss: 0.6201 - val_accuracy: 0.7856\n",
      "Epoch 37/100\n",
      "1563/1563 [==============================] - 7s 4ms/step - loss: 0.6558 - accuracy: 0.7714 - val_loss: 0.7500 - val_accuracy: 0.7525\n",
      "Epoch 38/100\n",
      "1563/1563 [==============================] - 7s 5ms/step - loss: 0.6605 - accuracy: 0.7701 - val_loss: 0.7291 - val_accuracy: 0.7483\n",
      "Epoch 39/100\n",
      "1563/1563 [==============================] - 7s 4ms/step - loss: 0.6556 - accuracy: 0.7715 - val_loss: 0.6695 - val_accuracy: 0.7744\n",
      "Epoch 40/100\n",
      "1563/1563 [==============================] - 7s 5ms/step - loss: 0.6500 - accuracy: 0.7748 - val_loss: 0.6299 - val_accuracy: 0.7894\n",
      "Epoch 41/100\n",
      "1563/1563 [==============================] - 7s 4ms/step - loss: 0.6509 - accuracy: 0.7730 - val_loss: 0.6642 - val_accuracy: 0.7751\n",
      "Epoch 42/100\n",
      "1563/1563 [==============================] - 7s 4ms/step - loss: 0.6430 - accuracy: 0.7744 - val_loss: 0.6301 - val_accuracy: 0.7875\n",
      "Epoch 43/100\n",
      "1563/1563 [==============================] - 7s 4ms/step - loss: 0.6451 - accuracy: 0.7737 - val_loss: 0.6445 - val_accuracy: 0.7832\n",
      "Epoch 44/100\n",
      "1563/1563 [==============================] - 7s 4ms/step - loss: 0.6431 - accuracy: 0.7782 - val_loss: 0.6189 - val_accuracy: 0.7921\n",
      "Epoch 45/100\n",
      "1563/1563 [==============================] - 7s 4ms/step - loss: 0.6425 - accuracy: 0.7765 - val_loss: 0.6165 - val_accuracy: 0.7965\n",
      "Epoch 46/100\n",
      "1563/1563 [==============================] - 7s 4ms/step - loss: 0.6384 - accuracy: 0.7779 - val_loss: 0.6292 - val_accuracy: 0.7869\n",
      "Epoch 47/100\n",
      "1563/1563 [==============================] - 7s 4ms/step - loss: 0.6378 - accuracy: 0.7778 - val_loss: 0.6678 - val_accuracy: 0.7774\n",
      "Epoch 48/100\n",
      "1563/1563 [==============================] - 7s 4ms/step - loss: 0.6307 - accuracy: 0.7815 - val_loss: 0.6204 - val_accuracy: 0.7935\n",
      "Epoch 49/100\n",
      "1563/1563 [==============================] - 7s 4ms/step - loss: 0.6276 - accuracy: 0.7815 - val_loss: 0.6279 - val_accuracy: 0.7896\n",
      "Epoch 50/100\n",
      "1563/1563 [==============================] - 7s 4ms/step - loss: 0.6239 - accuracy: 0.7811 - val_loss: 0.6221 - val_accuracy: 0.7873\n",
      "Epoch 51/100\n",
      "1563/1563 [==============================] - 7s 4ms/step - loss: 0.6274 - accuracy: 0.7825 - val_loss: 0.6686 - val_accuracy: 0.7755\n",
      "Epoch 52/100\n",
      "1563/1563 [==============================] - 7s 4ms/step - loss: 0.6211 - accuracy: 0.7843 - val_loss: 0.6332 - val_accuracy: 0.7841\n",
      "Epoch 53/100\n",
      "1563/1563 [==============================] - 7s 4ms/step - loss: 0.6223 - accuracy: 0.7842 - val_loss: 0.6165 - val_accuracy: 0.7956\n",
      "Epoch 54/100\n",
      "1563/1563 [==============================] - 7s 4ms/step - loss: 0.6241 - accuracy: 0.7831 - val_loss: 0.6491 - val_accuracy: 0.7877\n",
      "Epoch 55/100\n",
      "1563/1563 [==============================] - 7s 4ms/step - loss: 0.6237 - accuracy: 0.7838 - val_loss: 0.6329 - val_accuracy: 0.7914\n",
      "Epoch 56/100\n",
      "1563/1563 [==============================] - 7s 4ms/step - loss: 0.6320 - accuracy: 0.7787 - val_loss: 0.6035 - val_accuracy: 0.7979\n",
      "Epoch 57/100\n",
      "1563/1563 [==============================] - 7s 4ms/step - loss: 0.6198 - accuracy: 0.7832 - val_loss: 0.6051 - val_accuracy: 0.8005\n",
      "Epoch 58/100\n",
      "1563/1563 [==============================] - 7s 4ms/step - loss: 0.6217 - accuracy: 0.7848 - val_loss: 0.6508 - val_accuracy: 0.7866\n",
      "Epoch 59/100\n",
      "1563/1563 [==============================] - 7s 4ms/step - loss: 0.6263 - accuracy: 0.7821 - val_loss: 0.6207 - val_accuracy: 0.7893\n",
      "Epoch 60/100\n",
      "1563/1563 [==============================] - 7s 4ms/step - loss: 0.6111 - accuracy: 0.7876 - val_loss: 0.6877 - val_accuracy: 0.7748\n",
      "Epoch 61/100\n",
      "1563/1563 [==============================] - 7s 4ms/step - loss: 0.6124 - accuracy: 0.7868 - val_loss: 0.6185 - val_accuracy: 0.7900\n",
      "Epoch 62/100\n",
      "1563/1563 [==============================] - 7s 5ms/step - loss: 0.6170 - accuracy: 0.7827 - val_loss: 0.6243 - val_accuracy: 0.7948\n",
      "Epoch 63/100\n",
      "1563/1563 [==============================] - 7s 4ms/step - loss: 0.6159 - accuracy: 0.7849 - val_loss: 0.6233 - val_accuracy: 0.7893\n",
      "Epoch 64/100\n",
      "1563/1563 [==============================] - 7s 4ms/step - loss: 0.6121 - accuracy: 0.7897 - val_loss: 0.6156 - val_accuracy: 0.7901\n",
      "Epoch 65/100\n",
      "1563/1563 [==============================] - 7s 4ms/step - loss: 0.6096 - accuracy: 0.7876 - val_loss: 0.6276 - val_accuracy: 0.7947\n",
      "Epoch 66/100\n",
      "1563/1563 [==============================] - 7s 4ms/step - loss: 0.6135 - accuracy: 0.7858 - val_loss: 0.6175 - val_accuracy: 0.7949\n",
      "Epoch 67/100\n",
      "1563/1563 [==============================] - 7s 4ms/step - loss: 0.6036 - accuracy: 0.7889 - val_loss: 0.6158 - val_accuracy: 0.7970\n",
      "Epoch 68/100\n",
      "1563/1563 [==============================] - 7s 4ms/step - loss: 0.6087 - accuracy: 0.7888 - val_loss: 0.6144 - val_accuracy: 0.7994\n",
      "Epoch 69/100\n",
      "1563/1563 [==============================] - 7s 4ms/step - loss: 0.6039 - accuracy: 0.7873 - val_loss: 0.6324 - val_accuracy: 0.7938\n",
      "Epoch 70/100\n",
      "1563/1563 [==============================] - 7s 4ms/step - loss: 0.6077 - accuracy: 0.7907 - val_loss: 0.6516 - val_accuracy: 0.7834\n",
      "Epoch 71/100\n",
      "1563/1563 [==============================] - 7s 4ms/step - loss: 0.6028 - accuracy: 0.7905 - val_loss: 0.6508 - val_accuracy: 0.7884\n",
      "Epoch 72/100\n",
      "1563/1563 [==============================] - 7s 4ms/step - loss: 0.6100 - accuracy: 0.7885 - val_loss: 0.6135 - val_accuracy: 0.8010\n",
      "Epoch 73/100\n",
      "1563/1563 [==============================] - 7s 4ms/step - loss: 0.5987 - accuracy: 0.7915 - val_loss: 0.5881 - val_accuracy: 0.8084\n",
      "Epoch 74/100\n",
      "1563/1563 [==============================] - 7s 4ms/step - loss: 0.6027 - accuracy: 0.7898 - val_loss: 0.6860 - val_accuracy: 0.7774\n",
      "Epoch 75/100\n",
      "1563/1563 [==============================] - 7s 4ms/step - loss: 0.5986 - accuracy: 0.7928 - val_loss: 0.6212 - val_accuracy: 0.7960\n",
      "Epoch 76/100\n",
      "1563/1563 [==============================] - 7s 4ms/step - loss: 0.5981 - accuracy: 0.7922 - val_loss: 0.6401 - val_accuracy: 0.7910\n",
      "Epoch 77/100\n",
      "1563/1563 [==============================] - 7s 4ms/step - loss: 0.5944 - accuracy: 0.7927 - val_loss: 0.6006 - val_accuracy: 0.7987\n",
      "Epoch 78/100\n",
      "1563/1563 [==============================] - 7s 4ms/step - loss: 0.5992 - accuracy: 0.7929 - val_loss: 0.6584 - val_accuracy: 0.7904\n",
      "Epoch 79/100\n",
      "1563/1563 [==============================] - 7s 4ms/step - loss: 0.5977 - accuracy: 0.7915 - val_loss: 0.6239 - val_accuracy: 0.7935\n",
      "Epoch 80/100\n",
      "1563/1563 [==============================] - 7s 4ms/step - loss: 0.5958 - accuracy: 0.7923 - val_loss: 0.6174 - val_accuracy: 0.8028\n",
      "Epoch 81/100\n",
      "1563/1563 [==============================] - 7s 4ms/step - loss: 0.5915 - accuracy: 0.7938 - val_loss: 0.6234 - val_accuracy: 0.7924\n",
      "Epoch 82/100\n",
      "1563/1563 [==============================] - 7s 4ms/step - loss: 0.5912 - accuracy: 0.7939 - val_loss: 0.6163 - val_accuracy: 0.7972\n",
      "Epoch 83/100\n",
      "1563/1563 [==============================] - 7s 4ms/step - loss: 0.5973 - accuracy: 0.7939 - val_loss: 0.6510 - val_accuracy: 0.7886\n",
      "Epoch 84/100\n",
      "1563/1563 [==============================] - 7s 4ms/step - loss: 0.5966 - accuracy: 0.7927 - val_loss: 0.6269 - val_accuracy: 0.7928\n",
      "Epoch 85/100\n",
      "1563/1563 [==============================] - 7s 4ms/step - loss: 0.5963 - accuracy: 0.7930 - val_loss: 0.6152 - val_accuracy: 0.7963\n",
      "Epoch 86/100\n",
      "1563/1563 [==============================] - 7s 4ms/step - loss: 0.5952 - accuracy: 0.7932 - val_loss: 0.6086 - val_accuracy: 0.7950\n",
      "Epoch 87/100\n",
      "1563/1563 [==============================] - 7s 4ms/step - loss: 0.5890 - accuracy: 0.7973 - val_loss: 0.5923 - val_accuracy: 0.8050\n",
      "Epoch 88/100\n",
      "1563/1563 [==============================] - 7s 4ms/step - loss: 0.5862 - accuracy: 0.7957 - val_loss: 0.6159 - val_accuracy: 0.7934\n",
      "Epoch 89/100\n",
      "1563/1563 [==============================] - 7s 4ms/step - loss: 0.5820 - accuracy: 0.7990 - val_loss: 0.6001 - val_accuracy: 0.8083\n",
      "Epoch 90/100\n",
      "1563/1563 [==============================] - 7s 4ms/step - loss: 0.5838 - accuracy: 0.7961 - val_loss: 0.6100 - val_accuracy: 0.7983\n",
      "Epoch 91/100\n",
      "1563/1563 [==============================] - 7s 4ms/step - loss: 0.5919 - accuracy: 0.7948 - val_loss: 0.5954 - val_accuracy: 0.8063\n",
      "Epoch 92/100\n",
      "1563/1563 [==============================] - 7s 4ms/step - loss: 0.5890 - accuracy: 0.7952 - val_loss: 0.6522 - val_accuracy: 0.7896\n",
      "Epoch 93/100\n",
      "1563/1563 [==============================] - 7s 4ms/step - loss: 0.5831 - accuracy: 0.7955 - val_loss: 0.6167 - val_accuracy: 0.7960\n",
      "Epoch 94/100\n",
      "1563/1563 [==============================] - 7s 4ms/step - loss: 0.5866 - accuracy: 0.7974 - val_loss: 0.5906 - val_accuracy: 0.8033\n",
      "Epoch 95/100\n",
      "1563/1563 [==============================] - 7s 4ms/step - loss: 0.5849 - accuracy: 0.7975 - val_loss: 0.6495 - val_accuracy: 0.7880\n",
      "Epoch 96/100\n",
      "1563/1563 [==============================] - 7s 4ms/step - loss: 0.5792 - accuracy: 0.7982 - val_loss: 0.6382 - val_accuracy: 0.7946\n",
      "Epoch 97/100\n",
      "1563/1563 [==============================] - 7s 4ms/step - loss: 0.5905 - accuracy: 0.7950 - val_loss: 0.6254 - val_accuracy: 0.7940\n",
      "Epoch 98/100\n",
      "1563/1563 [==============================] - 7s 4ms/step - loss: 0.5802 - accuracy: 0.7977 - val_loss: 0.6243 - val_accuracy: 0.7996\n",
      "Epoch 99/100\n",
      "1563/1563 [==============================] - 7s 4ms/step - loss: 0.5791 - accuracy: 0.7970 - val_loss: 0.5877 - val_accuracy: 0.8071\n",
      "Epoch 100/100\n",
      "1563/1563 [==============================] - 7s 4ms/step - loss: 0.5805 - accuracy: 0.8005 - val_loss: 0.6034 - val_accuracy: 0.8007\n"
     ]
    }
   ],
   "source": [
    "history = model.fit(X_train, y_train_one_hot, validation_data=(X_test, y_test_one_hot), batch_size=32, epochs=100)"
   ]
  },
  {
   "cell_type": "code",
   "execution_count": null,
   "metadata": {
    "colab": {
     "base_uri": "https://localhost:8080/",
     "height": 295
    },
    "id": "xaQCPd6Mso9-",
    "outputId": "87c306ad-375c-40bb-e55c-16f3d9bb139d"
   },
   "outputs": [
    {
     "data": {
      "image/png": "[encoded data removed]",
      "text/plain": [
       "<Figure size 432x288 with 1 Axes>"
      ]
     },
     "metadata": {
      "needs_background": "light",
      "tags": []
     },
     "output_type": "display_data"
    }
   ],
   "source": [
    "#Visualize the models accuracy\n",
    "plt.plot(history.history['accuracy'])\n",
    "plt.plot(history.history['val_accuracy'])\n",
    "plt.title('Model Accuracy')\n",
    "plt.ylabel('Accuracy')\n",
    "plt.xlabel('Epoch')\n",
    "plt.legend(['Train', 'Val'], loc='upper left')\n",
    "plt.show()"
   ]
  },
  {
   "cell_type": "code",
   "execution_count": null,
   "metadata": {
    "colab": {
     "base_uri": "https://localhost:8080/",
     "height": 295
    },
    "id": "lE3_FL-Zsvps",
    "outputId": "e024079d-fd6f-42d7-b673-3adc8633dac5"
   },
   "outputs": [
    {
     "data": {
      "image/png": "[encoded data removed]",
      "text/plain": [
       "<Figure size 432x288 with 1 Axes>"
      ]
     },
     "metadata": {
      "needs_background": "light",
      "tags": []
     },
     "output_type": "display_data"
    }
   ],
   "source": [
    "plt.plot(history.history['loss'])\n",
    "plt.plot(history.history['val_loss'])\n",
    "plt.title('Model Accuracy')\n",
    "plt.ylabel('Loss')\n",
    "plt.xlabel('Epoch')\n",
    "plt.legend(['Train', 'Val'], loc='upper left')\n",
    "plt.show()"
   ]
  },
  {
   "cell_type": "code",
   "execution_count": null,
   "metadata": {
    "colab": {
     "base_uri": "https://localhost:8080/",
     "height": 419
    },
    "id": "ORAWvZjS0LjY",
    "outputId": "b50f2f6f-6635-4c0a-ba72-4a528e9b80fc"
   },
   "outputs": [
    {
     "data": {
      "text/html": [
       "<div>\n",
       "<style scoped>\n",
       "    .dataframe tbody tr th:only-of-type {\n",
       "        vertical-align: middle;\n",
       "    }\n",
       "\n",
       "    .dataframe tbody tr th {\n",
       "        vertical-align: top;\n",
       "    }\n",
       "\n",
       "    .dataframe thead th {\n",
       "        text-align: right;\n",
       "    }\n",
       "</style>\n",
       "<table border=\"1\" class=\"dataframe\">\n",
       "  <thead>\n",
       "    <tr style=\"text-align: right;\">\n",
       "      <th></th>\n",
       "      <th>loss</th>\n",
       "      <th>accuracy</th>\n",
       "      <th>val_loss</th>\n",
       "      <th>val_accuracy</th>\n",
       "      <th>epoch</th>\n",
       "    </tr>\n",
       "  </thead>\n",
       "  <tbody>\n",
       "    <tr>\n",
       "      <th>98</th>\n",
       "      <td>0.579095</td>\n",
       "      <td>0.79696</td>\n",
       "      <td>0.587749</td>\n",
       "      <td>0.8071</td>\n",
       "      <td>98</td>\n",
       "    </tr>\n",
       "    <tr>\n",
       "      <th>72</th>\n",
       "      <td>0.598718</td>\n",
       "      <td>0.79150</td>\n",
       "      <td>0.588079</td>\n",
       "      <td>0.8084</td>\n",
       "      <td>72</td>\n",
       "    </tr>\n",
       "    <tr>\n",
       "      <th>93</th>\n",
       "      <td>0.586631</td>\n",
       "      <td>0.79738</td>\n",
       "      <td>0.590561</td>\n",
       "      <td>0.8033</td>\n",
       "      <td>93</td>\n",
       "    </tr>\n",
       "    <tr>\n",
       "      <th>86</th>\n",
       "      <td>0.588999</td>\n",
       "      <td>0.79734</td>\n",
       "      <td>0.592304</td>\n",
       "      <td>0.8050</td>\n",
       "      <td>86</td>\n",
       "    </tr>\n",
       "    <tr>\n",
       "      <th>90</th>\n",
       "      <td>0.591890</td>\n",
       "      <td>0.79484</td>\n",
       "      <td>0.595441</td>\n",
       "      <td>0.8063</td>\n",
       "      <td>90</td>\n",
       "    </tr>\n",
       "    <tr>\n",
       "      <th>...</th>\n",
       "      <td>...</td>\n",
       "      <td>...</td>\n",
       "      <td>...</td>\n",
       "      <td>...</td>\n",
       "      <td>...</td>\n",
       "    </tr>\n",
       "    <tr>\n",
       "      <th>4</th>\n",
       "      <td>0.958488</td>\n",
       "      <td>0.66450</td>\n",
       "      <td>0.825572</td>\n",
       "      <td>0.7077</td>\n",
       "      <td>4</td>\n",
       "    </tr>\n",
       "    <tr>\n",
       "      <th>3</th>\n",
       "      <td>1.013570</td>\n",
       "      <td>0.64168</td>\n",
       "      <td>0.902328</td>\n",
       "      <td>0.6865</td>\n",
       "      <td>3</td>\n",
       "    </tr>\n",
       "    <tr>\n",
       "      <th>2</th>\n",
       "      <td>1.097872</td>\n",
       "      <td>0.61210</td>\n",
       "      <td>0.925330</td>\n",
       "      <td>0.6787</td>\n",
       "      <td>2</td>\n",
       "    </tr>\n",
       "    <tr>\n",
       "      <th>1</th>\n",
       "      <td>1.253692</td>\n",
       "      <td>0.55038</td>\n",
       "      <td>1.040237</td>\n",
       "      <td>0.6338</td>\n",
       "      <td>1</td>\n",
       "    </tr>\n",
       "    <tr>\n",
       "      <th>0</th>\n",
       "      <td>1.635753</td>\n",
       "      <td>0.39552</td>\n",
       "      <td>1.220036</td>\n",
       "      <td>0.5601</td>\n",
       "      <td>0</td>\n",
       "    </tr>\n",
       "  </tbody>\n",
       "</table>\n",
       "<p>100 rows × 5 columns</p>\n",
       "</div>"
      ],
      "text/plain": [
       "        loss  accuracy  val_loss  val_accuracy  epoch\n",
       "98  0.579095   0.79696  0.587749        0.8071     98\n",
       "72  0.598718   0.79150  0.588079        0.8084     72\n",
       "93  0.586631   0.79738  0.590561        0.8033     93\n",
       "86  0.588999   0.79734  0.592304        0.8050     86\n",
       "90  0.591890   0.79484  0.595441        0.8063     90\n",
       "..       ...       ...       ...           ...    ...\n",
       "4   0.958488   0.66450  0.825572        0.7077      4\n",
       "3   1.013570   0.64168  0.902328        0.6865      3\n",
       "2   1.097872   0.61210  0.925330        0.6787      2\n",
       "1   1.253692   0.55038  1.040237        0.6338      1\n",
       "0   1.635753   0.39552  1.220036        0.5601      0\n",
       "\n",
       "[100 rows x 5 columns]"
      ]
     },
     "execution_count": 9,
     "metadata": {
      "tags": []
     },
     "output_type": "execute_result"
    }
   ],
   "source": [
    "import pandas as pd\n",
    "\n",
    "history_dataframe = pd.DataFrame(history.history)\n",
    "history_dataframe['epoch'] = history.epoch\n",
    "history_dataframe.sort_values(by='val_loss', ascending=True)"
   ]
  },
  {
   "cell_type": "code",
   "execution_count": null,
   "metadata": {
    "colab": {
     "base_uri": "https://localhost:8080/",
     "height": 527
    },
    "id": "xVAIMTNCsz_h",
    "outputId": "ac5386c8-26f9-439b-f8d2-7185bec5036e"
   },
   "outputs": [
    {
     "data": {
      "text/plain": [
       "array([[4.54056542e-04, 6.62310573e-04, 9.64581210e-04, 8.74569952e-01,\n",
       "        6.06771100e-05, 1.05708174e-01, 1.64482035e-02, 3.73969524e-04,\n",
       "        4.07899788e-04, 3.50144488e-04],\n",
       "       [3.35946356e-06, 1.19736833e-04, 1.05897319e-13, 6.78657366e-14,\n",
       "        1.46560536e-16, 3.24874503e-18, 2.45217692e-12, 8.87982226e-17,\n",
       "        9.99826491e-01, 5.04149575e-05],\n",
       "       [1.85696082e-03, 5.06063830e-03, 1.65309143e-06, 1.25678071e-06,\n",
       "        1.01269620e-07, 6.34068869e-08, 1.30297685e-05, 2.98526821e-08,\n",
       "        9.89927709e-01, 3.13854264e-03],\n",
       "       [9.21289265e-01, 1.15775345e-02, 2.96509679e-04, 8.76964987e-05,\n",
       "        1.07496217e-05, 9.30270630e-07, 1.14543820e-06, 1.09549248e-04,\n",
       "        6.16422370e-02, 4.98437183e-03],\n",
       "       [7.79966629e-12, 1.47770560e-10, 8.54654136e-05, 1.08042259e-05,\n",
       "        5.17335895e-04, 1.78065995e-09, 9.99386430e-01, 9.60226603e-12,\n",
       "        1.00592173e-10, 3.92106833e-11],\n",
       "       [1.84366549e-08, 2.34278218e-07, 8.14378669e-04, 1.12971673e-02,\n",
       "        1.90062870e-04, 2.25007217e-02, 9.65175331e-01, 2.11260540e-05,\n",
       "        4.83157621e-08, 8.76086574e-07],\n",
       "       [9.65487743e-07, 9.85252678e-01, 2.46679497e-06, 1.33484544e-04,\n",
       "        4.18218846e-08, 6.83070357e-06, 3.29899149e-06, 6.57491796e-07,\n",
       "        5.70022713e-08, 1.45994322e-02],\n",
       "       [3.43373511e-03, 5.33238062e-06, 2.95705259e-01, 4.77705859e-02,\n",
       "        3.50147456e-01, 2.26176437e-02, 2.65883833e-01, 1.41941439e-02,\n",
       "        1.23599180e-04, 1.18395459e-04],\n",
       "       [1.49246871e-05, 8.92161154e-07, 5.81510598e-03, 7.35709906e-01,\n",
       "        9.29365680e-02, 1.60664245e-01, 1.47302239e-03, 3.37198935e-03,\n",
       "        8.01438262e-07, 1.25843035e-05],\n",
       "       [2.70471280e-03, 9.46417034e-01, 3.79777957e-05, 9.22628988e-06,\n",
       "        8.86436101e-06, 4.69227984e-07, 1.01241574e-04, 4.18223500e-08,\n",
       "        3.49630453e-02, 1.57575309e-02]], dtype=float32)"
      ]
     },
     "execution_count": 10,
     "metadata": {
      "tags": []
     },
     "output_type": "execute_result"
    }
   ],
   "source": [
    "predictions = model.predict(X_test[:10])\n",
    "predictions"
   ]
  },
  {
   "cell_type": "code",
   "execution_count": null,
   "metadata": {
    "colab": {
     "base_uri": "https://localhost:8080/",
     "height": 204
    },
    "id": "1YnnZ4g3s0ng",
    "outputId": "cfefb9d1-d7fa-48e7-c62f-df07f201c63c"
   },
   "outputs": [
    {
     "name": "stdout",
     "output_type": "stream",
     "text": [
      "[3 8 8 0 6 6 1 4 3 1]\n",
      "[[3]\n",
      " [8]\n",
      " [8]\n",
      " [0]\n",
      " [6]\n",
      " [6]\n",
      " [1]\n",
      " [6]\n",
      " [3]\n",
      " [1]]\n"
     ]
    }
   ],
   "source": [
    "#Print our predicitons as number labels for the first 5 images\n",
    "print( np.argmax(predictions, axis=1))\n",
    "#Print the actual labels\n",
    "print(y_test[:10])"
   ]
  },
  {
   "cell_type": "code",
   "execution_count": null,
   "metadata": {
    "colab": {
     "base_uri": "https://localhost:8080/",
     "height": 1000
    },
    "id": "M8vSsr1Hs4k4",
    "outputId": "35e6e0e5-cbfb-4379-a08b-a951cbdd3aab"
   },
   "outputs": [
    {
     "data": {
      "image/png": "[encoded data removed]",
      "text/plain": [
       "<Figure size 432x288 with 1 Axes>"
      ]
     },
     "metadata": {
      "needs_background": "light",
      "tags": []
     },
     "output_type": "display_data"
    },
    {
     "data": {
      "image/png": "[encoded data removed]",
      "text/plain": [
       "<Figure size 432x288 with 1 Axes>"
      ]
     },
     "metadata": {
      "needs_background": "light",
      "tags": []
     },
     "output_type": "display_data"
    },
    {
     "data": {
      "image/png": "[encoded data removed]",
      "text/plain": [
       "<Figure size 432x288 with 1 Axes>"
      ]
     },
     "metadata": {
      "needs_background": "light",
      "tags": []
     },
     "output_type": "display_data"
    },
    {
     "data": {
      "image/png": "[encoded data removed]",
      "text/plain": [
       "<Figure size 432x288 with 1 Axes>"
      ]
     },
     "metadata": {
      "needs_background": "light",
      "tags": []
     },
     "output_type": "display_data"
    },
    {
     "data": {
      "image/png": "[encoded data removed]",
      "text/plain": [
       "<Figure size 432x288 with 1 Axes>"
      ]
     },
     "metadata": {
      "needs_background": "light",
      "tags": []
     },
     "output_type": "display_data"
    },
    {
     "data": {
      "image/png": "[encoded data removed]",
      "text/plain": [
       "<Figure size 432x288 with 1 Axes>"
      ]
     },
     "metadata": {
      "needs_background": "light",
      "tags": []
     },
     "output_type": "display_data"
    },
    {
     "data": {
      "image/png": "[encoded data removed]",
      "text/plain": [
       "<Figure size 432x288 with 1 Axes>"
      ]
     },
     "metadata": {
      "needs_background": "light",
      "tags": []
     },
     "output_type": "display_data"
    },
    {
     "data": {
      "image/png": "[encoded data removed]",
      "text/plain": [
       "<Figure size 432x288 with 1 Axes>"
      ]
     },
     "metadata": {
      "needs_background": "light",
      "tags": []
     },
     "output_type": "display_data"
    },
    {
     "data": {
      "image/png": "[encoded data removed]",
      "text/plain": [
       "<Figure size 432x288 with 1 Axes>"
      ]
     },
     "metadata": {
      "needs_background": "light",
      "tags": []
     },
     "output_type": "display_data"
    },
    {
     "data": {
      "image/png": "[encoded data removed]",
      "text/plain": [
       "<Figure size 432x288 with 1 Axes>"
      ]
     },
     "metadata": {
      "needs_background": "light",
      "tags": []
     },
     "output_type": "display_data"
    }
   ],
   "source": [
    "#Show the first 10 images as pictures \n",
    "for i in range(0,10):   \n",
    "   image = X_test[i]   \n",
    "   image = np.array(image, dtype='float')   \n",
    "   pixels = image \n",
    "   plt.imshow(pixels, cmap='gray')   \n",
    "   plt.show()"
   ]
  },
  {
   "cell_type": "markdown",
   "metadata": {
    "id": "BS1TAqKr0OUq"
   },
   "source": [
    "# Kesimpulan\n",
    "Dengan menggunakan optimizer Adam (learning rate = 0.001) diperoleh hasil terbaik dengan akurasi sebesar 80.71% dengan val_loss sebesar 0.587749 pada epoch ke-98. Dilihat dari plot loss dan val_loss vs epoch, model ini tidak cenderung overfitting karena validation loss trendnya tidak begitu jauh perbedaannya dibandingkan dengan training loss. Hasil prediksi menunjukkan label test dibandingkan dengan gambar yang sebenarnya hampir semua benar, kecuali untuk gambar pertama dengan nilai label 3. Label 3 seharusnya kucing, tetapi gambar tersebut tidak menunjukkan adanya tanda-tanda kucing karena gambar kurang jelas."
   ]
  }
 ],
 "metadata": {
  "colab": {
   "collapsed_sections": [],
   "name": "Copy_of_Quiz2_Togi_CIFAR10.ipynb",
   "provenance": []
  },
  "kernelspec": {
   "display_name": "Python 3",
   "language": "python",
   "name": "python3"
  },
  "language_info": {
   "codemirror_mode": {
    "name": "ipython",
    "version": 3
   },
   "file_extension": ".py",
   "mimetype": "text/x-python",
   "name": "python",
   "nbconvert_exporter": "python",
   "pygments_lexer": "ipython3",
   "version": "3.8.5"
  }
 },
 "nbformat": 4,
 "nbformat_minor": 1
}
