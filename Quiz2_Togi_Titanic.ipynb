{
 "cells": [
  {
   "cell_type": "markdown",
   "metadata": {
    "id": "5iZ0FYXsPKiv"
   },
   "source": [
    "Dataset titanic dibagi menjadi 2 berdasarkan tipe, yaitu categorical dan numerical"
   ]
  },
  {
   "cell_type": "code",
   "execution_count": 1,
   "metadata": {
    "id": "an0bLC5FOln3"
   },
   "outputs": [],
   "source": [
    "#Import Libraries dulu\n",
    "import pandas as pd\n",
    "import numpy as np\n",
    "from keras.models import Sequential\n",
    "from keras.layers import Dense\n",
    "from keras.optimizers import Adam\n",
    "from sklearn.preprocessing import LabelEncoder\n",
    "import matplotlib.pyplot as plt\n",
    "import seaborn as sb"
   ]
  },
  {
   "cell_type": "code",
   "execution_count": 2,
   "metadata": {
    "id": "hWdpGkR3P8zO"
   },
   "outputs": [],
   "source": [
    "dataset_training = pd.read_csv('/content/drive/My Drive/titanic_train.csv')\n",
    "dataset_validation = pd.read_csv('/content/drive/My Drive/titanic_eval.csv')"
   ]
  },
  {
   "cell_type": "code",
   "execution_count": 3,
   "metadata": {
    "colab": {
     "base_uri": "https://localhost:8080/",
     "height": 206
    },
    "id": "0NjDJIFMQmOH",
    "outputId": "956d44da-7b41-4e71-e562-369f65cddaa2"
   },
   "outputs": [
    {
     "data": {
      "text/html": [
       "<div>\n",
       "<style scoped>\n",
       "    .dataframe tbody tr th:only-of-type {\n",
       "        vertical-align: middle;\n",
       "    }\n",
       "\n",
       "    .dataframe tbody tr th {\n",
       "        vertical-align: top;\n",
       "    }\n",
       "\n",
       "    .dataframe thead th {\n",
       "        text-align: right;\n",
       "    }\n",
       "</style>\n",
       "<table border=\"1\" class=\"dataframe\">\n",
       "  <thead>\n",
       "    <tr style=\"text-align: right;\">\n",
       "      <th></th>\n",
       "      <th>survived</th>\n",
       "      <th>sex</th>\n",
       "      <th>age</th>\n",
       "      <th>n_siblings_spouses</th>\n",
       "      <th>parch</th>\n",
       "      <th>fare</th>\n",
       "      <th>class</th>\n",
       "      <th>deck</th>\n",
       "      <th>embark_town</th>\n",
       "      <th>alone</th>\n",
       "    </tr>\n",
       "  </thead>\n",
       "  <tbody>\n",
       "    <tr>\n",
       "      <th>0</th>\n",
       "      <td>0</td>\n",
       "      <td>male</td>\n",
       "      <td>22.0</td>\n",
       "      <td>1</td>\n",
       "      <td>0</td>\n",
       "      <td>7.2500</td>\n",
       "      <td>Third</td>\n",
       "      <td>unknown</td>\n",
       "      <td>Southampton</td>\n",
       "      <td>n</td>\n",
       "    </tr>\n",
       "    <tr>\n",
       "      <th>1</th>\n",
       "      <td>1</td>\n",
       "      <td>female</td>\n",
       "      <td>38.0</td>\n",
       "      <td>1</td>\n",
       "      <td>0</td>\n",
       "      <td>71.2833</td>\n",
       "      <td>First</td>\n",
       "      <td>C</td>\n",
       "      <td>Cherbourg</td>\n",
       "      <td>n</td>\n",
       "    </tr>\n",
       "    <tr>\n",
       "      <th>2</th>\n",
       "      <td>1</td>\n",
       "      <td>female</td>\n",
       "      <td>26.0</td>\n",
       "      <td>0</td>\n",
       "      <td>0</td>\n",
       "      <td>7.9250</td>\n",
       "      <td>Third</td>\n",
       "      <td>unknown</td>\n",
       "      <td>Southampton</td>\n",
       "      <td>y</td>\n",
       "    </tr>\n",
       "    <tr>\n",
       "      <th>3</th>\n",
       "      <td>1</td>\n",
       "      <td>female</td>\n",
       "      <td>35.0</td>\n",
       "      <td>1</td>\n",
       "      <td>0</td>\n",
       "      <td>53.1000</td>\n",
       "      <td>First</td>\n",
       "      <td>C</td>\n",
       "      <td>Southampton</td>\n",
       "      <td>n</td>\n",
       "    </tr>\n",
       "    <tr>\n",
       "      <th>4</th>\n",
       "      <td>0</td>\n",
       "      <td>male</td>\n",
       "      <td>28.0</td>\n",
       "      <td>0</td>\n",
       "      <td>0</td>\n",
       "      <td>8.4583</td>\n",
       "      <td>Third</td>\n",
       "      <td>unknown</td>\n",
       "      <td>Queenstown</td>\n",
       "      <td>y</td>\n",
       "    </tr>\n",
       "  </tbody>\n",
       "</table>\n",
       "</div>"
      ],
      "text/plain": [
       "   survived     sex   age  ...     deck  embark_town  alone\n",
       "0         0    male  22.0  ...  unknown  Southampton      n\n",
       "1         1  female  38.0  ...        C    Cherbourg      n\n",
       "2         1  female  26.0  ...  unknown  Southampton      y\n",
       "3         1  female  35.0  ...        C  Southampton      n\n",
       "4         0    male  28.0  ...  unknown   Queenstown      y\n",
       "\n",
       "[5 rows x 10 columns]"
      ]
     },
     "execution_count": 3,
     "metadata": {
      "tags": []
     },
     "output_type": "execute_result"
    }
   ],
   "source": [
    "dataset_training.head()"
   ]
  },
  {
   "cell_type": "code",
   "execution_count": 4,
   "metadata": {
    "id": "2n6Vj9FNSmuE"
   },
   "outputs": [],
   "source": [
    "dataset_training = dataset_training.replace('unknown', np.nan) # Ganti nilai unknown jadi NaN"
   ]
  },
  {
   "cell_type": "code",
   "execution_count": 5,
   "metadata": {
    "colab": {
     "base_uri": "https://localhost:8080/",
     "height": 219
    },
    "id": "SiH0KBRSQ9g0",
    "outputId": "1ef48fcb-0b61-4c53-8c5b-1c498ae0c1af"
   },
   "outputs": [
    {
     "data": {
      "text/plain": [
       "survived                0\n",
       "sex                     0\n",
       "age                     0\n",
       "n_siblings_spouses      0\n",
       "parch                   0\n",
       "fare                    0\n",
       "class                   0\n",
       "deck                  481\n",
       "embark_town             1\n",
       "alone                   0\n",
       "dtype: int64"
      ]
     },
     "execution_count": 5,
     "metadata": {
      "tags": []
     },
     "output_type": "execute_result"
    }
   ],
   "source": [
    "#Kita cari apakah data training punya data null\n",
    "dataset_training.isnull().sum()"
   ]
  },
  {
   "cell_type": "code",
   "execution_count": 6,
   "metadata": {
    "colab": {
     "base_uri": "https://localhost:8080/",
     "height": 329
    },
    "id": "JcKlI_bkSaNE",
    "outputId": "2821c062-c253-4b2d-badd-7db8f6ff1306"
   },
   "outputs": [
    {
     "name": "stdout",
     "output_type": "stream",
     "text": [
      "<class 'pandas.core.frame.DataFrame'>\n",
      "RangeIndex: 627 entries, 0 to 626\n",
      "Data columns (total 10 columns):\n",
      " #   Column              Non-Null Count  Dtype  \n",
      "---  ------              --------------  -----  \n",
      " 0   survived            627 non-null    int64  \n",
      " 1   sex                 627 non-null    object \n",
      " 2   age                 627 non-null    float64\n",
      " 3   n_siblings_spouses  627 non-null    int64  \n",
      " 4   parch               627 non-null    int64  \n",
      " 5   fare                627 non-null    float64\n",
      " 6   class               627 non-null    object \n",
      " 7   deck                146 non-null    object \n",
      " 8   embark_town         626 non-null    object \n",
      " 9   alone               627 non-null    object \n",
      "dtypes: float64(2), int64(3), object(5)\n",
      "memory usage: 49.1+ KB\n"
     ]
    }
   ],
   "source": [
    "dataset_training.info()"
   ]
  },
  {
   "cell_type": "markdown",
   "metadata": {
    "id": "vxC0gJ4gT7RQ"
   },
   "source": [
    "Kalau diperhatikan, feature deck memiliki banyak NaN, kita akan drop feature tersebut. Feature 'embark_town' juga tidak bergitu penting."
   ]
  },
  {
   "cell_type": "code",
   "execution_count": 7,
   "metadata": {
    "id": "U2N0hEJvUhok"
   },
   "outputs": [],
   "source": [
    "dataset_training.drop('deck', axis=1, inplace=True)\n",
    "dataset_training.drop('embark_town', axis=1, inplace=True)"
   ]
  },
  {
   "cell_type": "code",
   "execution_count": 8,
   "metadata": {
    "colab": {
     "base_uri": "https://localhost:8080/",
     "height": 206
    },
    "id": "lS_VK1-8Uv9u",
    "outputId": "1befc098-37da-4de8-edbf-36daaddcdaea"
   },
   "outputs": [
    {
     "data": {
      "text/html": [
       "<div>\n",
       "<style scoped>\n",
       "    .dataframe tbody tr th:only-of-type {\n",
       "        vertical-align: middle;\n",
       "    }\n",
       "\n",
       "    .dataframe tbody tr th {\n",
       "        vertical-align: top;\n",
       "    }\n",
       "\n",
       "    .dataframe thead th {\n",
       "        text-align: right;\n",
       "    }\n",
       "</style>\n",
       "<table border=\"1\" class=\"dataframe\">\n",
       "  <thead>\n",
       "    <tr style=\"text-align: right;\">\n",
       "      <th></th>\n",
       "      <th>survived</th>\n",
       "      <th>sex</th>\n",
       "      <th>age</th>\n",
       "      <th>n_siblings_spouses</th>\n",
       "      <th>parch</th>\n",
       "      <th>fare</th>\n",
       "      <th>class</th>\n",
       "      <th>alone</th>\n",
       "    </tr>\n",
       "  </thead>\n",
       "  <tbody>\n",
       "    <tr>\n",
       "      <th>0</th>\n",
       "      <td>0</td>\n",
       "      <td>0</td>\n",
       "      <td>22.0</td>\n",
       "      <td>1</td>\n",
       "      <td>0</td>\n",
       "      <td>7.2500</td>\n",
       "      <td>Third</td>\n",
       "      <td>n</td>\n",
       "    </tr>\n",
       "    <tr>\n",
       "      <th>1</th>\n",
       "      <td>1</td>\n",
       "      <td>1</td>\n",
       "      <td>38.0</td>\n",
       "      <td>1</td>\n",
       "      <td>0</td>\n",
       "      <td>71.2833</td>\n",
       "      <td>First</td>\n",
       "      <td>n</td>\n",
       "    </tr>\n",
       "    <tr>\n",
       "      <th>2</th>\n",
       "      <td>1</td>\n",
       "      <td>1</td>\n",
       "      <td>26.0</td>\n",
       "      <td>0</td>\n",
       "      <td>0</td>\n",
       "      <td>7.9250</td>\n",
       "      <td>Third</td>\n",
       "      <td>y</td>\n",
       "    </tr>\n",
       "    <tr>\n",
       "      <th>3</th>\n",
       "      <td>1</td>\n",
       "      <td>1</td>\n",
       "      <td>35.0</td>\n",
       "      <td>1</td>\n",
       "      <td>0</td>\n",
       "      <td>53.1000</td>\n",
       "      <td>First</td>\n",
       "      <td>n</td>\n",
       "    </tr>\n",
       "    <tr>\n",
       "      <th>4</th>\n",
       "      <td>0</td>\n",
       "      <td>0</td>\n",
       "      <td>28.0</td>\n",
       "      <td>0</td>\n",
       "      <td>0</td>\n",
       "      <td>8.4583</td>\n",
       "      <td>Third</td>\n",
       "      <td>y</td>\n",
       "    </tr>\n",
       "  </tbody>\n",
       "</table>\n",
       "</div>"
      ],
      "text/plain": [
       "   survived  sex   age  n_siblings_spouses  parch     fare  class alone\n",
       "0         0    0  22.0                   1      0   7.2500  Third     n\n",
       "1         1    1  38.0                   1      0  71.2833  First     n\n",
       "2         1    1  26.0                   0      0   7.9250  Third     y\n",
       "3         1    1  35.0                   1      0  53.1000  First     n\n",
       "4         0    0  28.0                   0      0   8.4583  Third     y"
      ]
     },
     "execution_count": 8,
     "metadata": {
      "tags": []
     },
     "output_type": "execute_result"
    }
   ],
   "source": [
    "#Kita ganti kolom 'sex' menjadi data numerik\n",
    "sex_mapping = {\"male\": 0, \"female\": 1}\n",
    "dataset_training['sex'] = dataset_training['sex'].map(sex_mapping)\n",
    "dataset_training.head()"
   ]
  },
  {
   "cell_type": "code",
   "execution_count": 9,
   "metadata": {
    "colab": {
     "base_uri": "https://localhost:8080/",
     "height": 206
    },
    "id": "vsqZWDljVpoJ",
    "outputId": "3640aced-3a55-4943-d4aa-7e4215d3c30b"
   },
   "outputs": [
    {
     "data": {
      "text/html": [
       "<div>\n",
       "<style scoped>\n",
       "    .dataframe tbody tr th:only-of-type {\n",
       "        vertical-align: middle;\n",
       "    }\n",
       "\n",
       "    .dataframe tbody tr th {\n",
       "        vertical-align: top;\n",
       "    }\n",
       "\n",
       "    .dataframe thead th {\n",
       "        text-align: right;\n",
       "    }\n",
       "</style>\n",
       "<table border=\"1\" class=\"dataframe\">\n",
       "  <thead>\n",
       "    <tr style=\"text-align: right;\">\n",
       "      <th></th>\n",
       "      <th>survived</th>\n",
       "      <th>sex</th>\n",
       "      <th>age</th>\n",
       "      <th>n_siblings_spouses</th>\n",
       "      <th>parch</th>\n",
       "      <th>fare</th>\n",
       "      <th>class</th>\n",
       "      <th>alone</th>\n",
       "    </tr>\n",
       "  </thead>\n",
       "  <tbody>\n",
       "    <tr>\n",
       "      <th>0</th>\n",
       "      <td>0</td>\n",
       "      <td>0</td>\n",
       "      <td>22.0</td>\n",
       "      <td>1</td>\n",
       "      <td>0</td>\n",
       "      <td>7.2500</td>\n",
       "      <td>3</td>\n",
       "      <td>n</td>\n",
       "    </tr>\n",
       "    <tr>\n",
       "      <th>1</th>\n",
       "      <td>1</td>\n",
       "      <td>1</td>\n",
       "      <td>38.0</td>\n",
       "      <td>1</td>\n",
       "      <td>0</td>\n",
       "      <td>71.2833</td>\n",
       "      <td>1</td>\n",
       "      <td>n</td>\n",
       "    </tr>\n",
       "    <tr>\n",
       "      <th>2</th>\n",
       "      <td>1</td>\n",
       "      <td>1</td>\n",
       "      <td>26.0</td>\n",
       "      <td>0</td>\n",
       "      <td>0</td>\n",
       "      <td>7.9250</td>\n",
       "      <td>3</td>\n",
       "      <td>y</td>\n",
       "    </tr>\n",
       "    <tr>\n",
       "      <th>3</th>\n",
       "      <td>1</td>\n",
       "      <td>1</td>\n",
       "      <td>35.0</td>\n",
       "      <td>1</td>\n",
       "      <td>0</td>\n",
       "      <td>53.1000</td>\n",
       "      <td>1</td>\n",
       "      <td>n</td>\n",
       "    </tr>\n",
       "    <tr>\n",
       "      <th>4</th>\n",
       "      <td>0</td>\n",
       "      <td>0</td>\n",
       "      <td>28.0</td>\n",
       "      <td>0</td>\n",
       "      <td>0</td>\n",
       "      <td>8.4583</td>\n",
       "      <td>3</td>\n",
       "      <td>y</td>\n",
       "    </tr>\n",
       "  </tbody>\n",
       "</table>\n",
       "</div>"
      ],
      "text/plain": [
       "   survived  sex   age  n_siblings_spouses  parch     fare  class alone\n",
       "0         0    0  22.0                   1      0   7.2500      3     n\n",
       "1         1    1  38.0                   1      0  71.2833      1     n\n",
       "2         1    1  26.0                   0      0   7.9250      3     y\n",
       "3         1    1  35.0                   1      0  53.1000      1     n\n",
       "4         0    0  28.0                   0      0   8.4583      3     y"
      ]
     },
     "execution_count": 9,
     "metadata": {
      "tags": []
     },
     "output_type": "execute_result"
    }
   ],
   "source": [
    "#Kita ganti kolom 'class' menjadi data numerik\n",
    "class_mapping = {'First': 1, 'Second': 2, 'Third': 3}\n",
    "dataset_training['class'] = dataset_training['class'].map(class_mapping)\n",
    "dataset_training.head()"
   ]
  },
  {
   "cell_type": "code",
   "execution_count": 10,
   "metadata": {
    "colab": {
     "base_uri": "https://localhost:8080/",
     "height": 206
    },
    "id": "kQFNG7BsWJ-1",
    "outputId": "65c3ec86-b831-4457-8d25-3aec3bdfa77d"
   },
   "outputs": [
    {
     "data": {
      "text/html": [
       "<div>\n",
       "<style scoped>\n",
       "    .dataframe tbody tr th:only-of-type {\n",
       "        vertical-align: middle;\n",
       "    }\n",
       "\n",
       "    .dataframe tbody tr th {\n",
       "        vertical-align: top;\n",
       "    }\n",
       "\n",
       "    .dataframe thead th {\n",
       "        text-align: right;\n",
       "    }\n",
       "</style>\n",
       "<table border=\"1\" class=\"dataframe\">\n",
       "  <thead>\n",
       "    <tr style=\"text-align: right;\">\n",
       "      <th></th>\n",
       "      <th>survived</th>\n",
       "      <th>sex</th>\n",
       "      <th>age</th>\n",
       "      <th>n_siblings_spouses</th>\n",
       "      <th>parch</th>\n",
       "      <th>fare</th>\n",
       "      <th>class</th>\n",
       "      <th>alone</th>\n",
       "    </tr>\n",
       "  </thead>\n",
       "  <tbody>\n",
       "    <tr>\n",
       "      <th>0</th>\n",
       "      <td>0</td>\n",
       "      <td>0</td>\n",
       "      <td>22.0</td>\n",
       "      <td>1</td>\n",
       "      <td>0</td>\n",
       "      <td>7.2500</td>\n",
       "      <td>3</td>\n",
       "      <td>0</td>\n",
       "    </tr>\n",
       "    <tr>\n",
       "      <th>1</th>\n",
       "      <td>1</td>\n",
       "      <td>1</td>\n",
       "      <td>38.0</td>\n",
       "      <td>1</td>\n",
       "      <td>0</td>\n",
       "      <td>71.2833</td>\n",
       "      <td>1</td>\n",
       "      <td>0</td>\n",
       "    </tr>\n",
       "    <tr>\n",
       "      <th>2</th>\n",
       "      <td>1</td>\n",
       "      <td>1</td>\n",
       "      <td>26.0</td>\n",
       "      <td>0</td>\n",
       "      <td>0</td>\n",
       "      <td>7.9250</td>\n",
       "      <td>3</td>\n",
       "      <td>1</td>\n",
       "    </tr>\n",
       "    <tr>\n",
       "      <th>3</th>\n",
       "      <td>1</td>\n",
       "      <td>1</td>\n",
       "      <td>35.0</td>\n",
       "      <td>1</td>\n",
       "      <td>0</td>\n",
       "      <td>53.1000</td>\n",
       "      <td>1</td>\n",
       "      <td>0</td>\n",
       "    </tr>\n",
       "    <tr>\n",
       "      <th>4</th>\n",
       "      <td>0</td>\n",
       "      <td>0</td>\n",
       "      <td>28.0</td>\n",
       "      <td>0</td>\n",
       "      <td>0</td>\n",
       "      <td>8.4583</td>\n",
       "      <td>3</td>\n",
       "      <td>1</td>\n",
       "    </tr>\n",
       "  </tbody>\n",
       "</table>\n",
       "</div>"
      ],
      "text/plain": [
       "   survived  sex   age  n_siblings_spouses  parch     fare  class  alone\n",
       "0         0    0  22.0                   1      0   7.2500      3      0\n",
       "1         1    1  38.0                   1      0  71.2833      1      0\n",
       "2         1    1  26.0                   0      0   7.9250      3      1\n",
       "3         1    1  35.0                   1      0  53.1000      1      0\n",
       "4         0    0  28.0                   0      0   8.4583      3      1"
      ]
     },
     "execution_count": 10,
     "metadata": {
      "tags": []
     },
     "output_type": "execute_result"
    }
   ],
   "source": [
    "#Kita ganti juga kolom 'alone' menjadi data numerik\n",
    "alone_mapping = {'n': 0, 'y': 1}\n",
    "dataset_training['alone'] = dataset_training['alone'].map(alone_mapping)\n",
    "dataset_training.head()"
   ]
  },
  {
   "cell_type": "code",
   "execution_count": 11,
   "metadata": {
    "id": "9HxhMCRFjhXc"
   },
   "outputs": [],
   "source": [
    "'''\n",
    "Hal yang sama kita lakukan untuk dataset_validation\n",
    "'''\n",
    "#Data Validation testing\n",
    "dataset_validation.drop('deck', axis=1, inplace=True)\n",
    "dataset_validation.drop('embark_town', axis=1, inplace=True)\n",
    "\n",
    "#Kita ganti kolom 'sex' menjadi data numerik\n",
    "sex_mapping = {\"male\": 0, \"female\": 1}\n",
    "dataset_validation['sex'] = dataset_validation['sex'].map(sex_mapping)\n",
    "\n",
    "#Kita ganti kolom 'class' menjadi data numerik\n",
    "class_mapping = {'First': 1, 'Second': 2, 'Third': 3}\n",
    "dataset_validation['class'] = dataset_validation['class'].map(class_mapping)\n",
    "\n",
    "#Kita ganti juga kolom 'alone' menjadi data numerik\n",
    "alone_mapping = {'n': 0, 'y': 1}\n",
    "dataset_validation['alone'] = dataset_validation['alone'].map(alone_mapping)"
   ]
  },
  {
   "cell_type": "markdown",
   "metadata": {
    "id": "WSQGhvTsWj2j"
   },
   "source": [
    "#Feature Engineering"
   ]
  },
  {
   "cell_type": "code",
   "execution_count": 12,
   "metadata": {
    "id": "YtkEePd3Wl1c"
   },
   "outputs": [],
   "source": [
    "X_train= dataset_training.drop(['survived'],axis=1)\n",
    "y_train= dataset_training['survived']\n",
    "X_test= dataset_validation.drop(['survived'],axis=1)\n",
    "y_test= dataset_validation['survived']"
   ]
  },
  {
   "cell_type": "markdown",
   "metadata": {
    "id": "lPJKRGHfXePb"
   },
   "source": [
    "#Building the model"
   ]
  },
  {
   "cell_type": "code",
   "execution_count": 13,
   "metadata": {
    "id": "jAmOUnLsXf8H"
   },
   "outputs": [],
   "source": [
    "#Deep model\n",
    "from tensorflow.keras.layers import Dropout\n",
    "\n",
    "model = Sequential()\n",
    "model.add(Dense(32, input_dim=7, kernel_initializer='normal', activation='relu'))\n",
    "model.add(Dropout(0.4))\n",
    "model.add(Dense(64, kernel_initializer='normal', activation='relu'))\n",
    "model.add(Dropout(0.4))\n",
    "model.add(Dense(128, kernel_initializer='normal', activation='relu'))\n",
    "model.add(Dropout(0.4))\n",
    "model.add(Dense(256, kernel_initializer='normal', activation='relu'))\n",
    "model.add(Dropout(0.4))\n",
    "model.add(Dense(1,  activation= 'sigmoid' ))\n",
    "\n",
    "opt = Adam(learning_rate=0.001) #Pakai optimizer adam karena paling banyak digunakan dan hasilnya lumayan bagus\n",
    "\n",
    "model.compile(loss='binary_crossentropy', optimizer=opt, metrics=['accuracy'])"
   ]
  },
  {
   "cell_type": "code",
   "execution_count": 14,
   "metadata": {
    "colab": {
     "base_uri": "https://localhost:8080/",
     "height": 1000
    },
    "id": "4i5QkjrqYYqU",
    "outputId": "dd42da45-20cc-4dda-f970-438c0117670a"
   },
   "outputs": [
    {
     "name": "stdout",
     "output_type": "stream",
     "text": [
      "Epoch 1/100\n",
      "20/20 - 0s - loss: 0.6859 - accuracy: 0.5917 - val_loss: 0.6431 - val_accuracy: 0.6439\n",
      "Epoch 2/100\n",
      "20/20 - 0s - loss: 0.6611 - accuracy: 0.6300 - val_loss: 0.6226 - val_accuracy: 0.6932\n",
      "Epoch 3/100\n",
      "20/20 - 0s - loss: 0.6357 - accuracy: 0.6475 - val_loss: 0.6009 - val_accuracy: 0.6894\n",
      "Epoch 4/100\n",
      "20/20 - 0s - loss: 0.6500 - accuracy: 0.6348 - val_loss: 0.6093 - val_accuracy: 0.6818\n",
      "Epoch 5/100\n",
      "20/20 - 0s - loss: 0.6142 - accuracy: 0.6380 - val_loss: 0.5940 - val_accuracy: 0.6780\n",
      "Epoch 6/100\n",
      "20/20 - 0s - loss: 0.6282 - accuracy: 0.6651 - val_loss: 0.5903 - val_accuracy: 0.6780\n",
      "Epoch 7/100\n",
      "20/20 - 0s - loss: 0.6226 - accuracy: 0.6539 - val_loss: 0.5939 - val_accuracy: 0.6894\n",
      "Epoch 8/100\n",
      "20/20 - 0s - loss: 0.6307 - accuracy: 0.6459 - val_loss: 0.5968 - val_accuracy: 0.6932\n",
      "Epoch 9/100\n",
      "20/20 - 0s - loss: 0.6091 - accuracy: 0.6730 - val_loss: 0.5849 - val_accuracy: 0.6818\n",
      "Epoch 10/100\n",
      "20/20 - 0s - loss: 0.6078 - accuracy: 0.6715 - val_loss: 0.5839 - val_accuracy: 0.6894\n",
      "Epoch 11/100\n",
      "20/20 - 0s - loss: 0.6015 - accuracy: 0.6938 - val_loss: 0.5790 - val_accuracy: 0.6932\n",
      "Epoch 12/100\n",
      "20/20 - 0s - loss: 0.5847 - accuracy: 0.6762 - val_loss: 0.5740 - val_accuracy: 0.6894\n",
      "Epoch 13/100\n",
      "20/20 - 0s - loss: 0.5828 - accuracy: 0.6890 - val_loss: 0.5689 - val_accuracy: 0.6894\n",
      "Epoch 14/100\n",
      "20/20 - 0s - loss: 0.5844 - accuracy: 0.7049 - val_loss: 0.5643 - val_accuracy: 0.6894\n",
      "Epoch 15/100\n",
      "20/20 - 0s - loss: 0.5765 - accuracy: 0.6906 - val_loss: 0.5636 - val_accuracy: 0.7083\n",
      "Epoch 16/100\n",
      "20/20 - 0s - loss: 0.5699 - accuracy: 0.7113 - val_loss: 0.5481 - val_accuracy: 0.7235\n",
      "Epoch 17/100\n",
      "20/20 - 0s - loss: 0.5623 - accuracy: 0.7257 - val_loss: 0.5393 - val_accuracy: 0.7273\n",
      "Epoch 18/100\n",
      "20/20 - 0s - loss: 0.5621 - accuracy: 0.7384 - val_loss: 0.5189 - val_accuracy: 0.7424\n",
      "Epoch 19/100\n",
      "20/20 - 0s - loss: 0.5454 - accuracy: 0.7305 - val_loss: 0.5149 - val_accuracy: 0.7538\n",
      "Epoch 20/100\n",
      "20/20 - 0s - loss: 0.5421 - accuracy: 0.7624 - val_loss: 0.5116 - val_accuracy: 0.7386\n",
      "Epoch 21/100\n",
      "20/20 - 0s - loss: 0.5248 - accuracy: 0.7687 - val_loss: 0.5027 - val_accuracy: 0.7500\n",
      "Epoch 22/100\n",
      "20/20 - 0s - loss: 0.5043 - accuracy: 0.7687 - val_loss: 0.5070 - val_accuracy: 0.7538\n",
      "Epoch 23/100\n",
      "20/20 - 0s - loss: 0.5144 - accuracy: 0.7671 - val_loss: 0.5041 - val_accuracy: 0.7462\n",
      "Epoch 24/100\n",
      "20/20 - 0s - loss: 0.4966 - accuracy: 0.7943 - val_loss: 0.5292 - val_accuracy: 0.7386\n",
      "Epoch 25/100\n",
      "20/20 - 0s - loss: 0.4993 - accuracy: 0.7959 - val_loss: 0.5000 - val_accuracy: 0.7538\n",
      "Epoch 26/100\n",
      "20/20 - 0s - loss: 0.4868 - accuracy: 0.7831 - val_loss: 0.4946 - val_accuracy: 0.7727\n",
      "Epoch 27/100\n",
      "20/20 - 0s - loss: 0.4808 - accuracy: 0.7895 - val_loss: 0.4913 - val_accuracy: 0.7576\n",
      "Epoch 28/100\n",
      "20/20 - 0s - loss: 0.4878 - accuracy: 0.7815 - val_loss: 0.4938 - val_accuracy: 0.7765\n",
      "Epoch 29/100\n",
      "20/20 - 0s - loss: 0.4802 - accuracy: 0.7895 - val_loss: 0.4905 - val_accuracy: 0.7689\n",
      "Epoch 30/100\n",
      "20/20 - 0s - loss: 0.4663 - accuracy: 0.7927 - val_loss: 0.5197 - val_accuracy: 0.7500\n",
      "Epoch 31/100\n",
      "20/20 - 0s - loss: 0.4840 - accuracy: 0.7879 - val_loss: 0.4882 - val_accuracy: 0.7538\n",
      "Epoch 32/100\n",
      "20/20 - 0s - loss: 0.4618 - accuracy: 0.7927 - val_loss: 0.4840 - val_accuracy: 0.7652\n",
      "Epoch 33/100\n",
      "20/20 - 0s - loss: 0.4629 - accuracy: 0.7959 - val_loss: 0.4875 - val_accuracy: 0.7803\n",
      "Epoch 34/100\n",
      "20/20 - 0s - loss: 0.4992 - accuracy: 0.7703 - val_loss: 0.4858 - val_accuracy: 0.7652\n",
      "Epoch 35/100\n",
      "20/20 - 0s - loss: 0.4726 - accuracy: 0.7815 - val_loss: 0.4869 - val_accuracy: 0.7727\n",
      "Epoch 36/100\n",
      "20/20 - 0s - loss: 0.4631 - accuracy: 0.8054 - val_loss: 0.4977 - val_accuracy: 0.7576\n",
      "Epoch 37/100\n",
      "20/20 - 0s - loss: 0.4742 - accuracy: 0.7879 - val_loss: 0.4806 - val_accuracy: 0.7689\n",
      "Epoch 38/100\n",
      "20/20 - 0s - loss: 0.4557 - accuracy: 0.8022 - val_loss: 0.4839 - val_accuracy: 0.7576\n",
      "Epoch 39/100\n",
      "20/20 - 0s - loss: 0.4742 - accuracy: 0.7879 - val_loss: 0.4898 - val_accuracy: 0.7576\n",
      "Epoch 40/100\n",
      "20/20 - 0s - loss: 0.4841 - accuracy: 0.7799 - val_loss: 0.4841 - val_accuracy: 0.7765\n",
      "Epoch 41/100\n",
      "20/20 - 0s - loss: 0.4632 - accuracy: 0.7927 - val_loss: 0.4885 - val_accuracy: 0.7538\n",
      "Epoch 42/100\n",
      "20/20 - 0s - loss: 0.4853 - accuracy: 0.7990 - val_loss: 0.4896 - val_accuracy: 0.7879\n",
      "Epoch 43/100\n",
      "20/20 - 0s - loss: 0.4687 - accuracy: 0.7974 - val_loss: 0.4862 - val_accuracy: 0.7841\n",
      "Epoch 44/100\n",
      "20/20 - 0s - loss: 0.4671 - accuracy: 0.8054 - val_loss: 0.4850 - val_accuracy: 0.7765\n",
      "Epoch 45/100\n",
      "20/20 - 0s - loss: 0.4746 - accuracy: 0.7911 - val_loss: 0.4937 - val_accuracy: 0.7500\n",
      "Epoch 46/100\n",
      "20/20 - 0s - loss: 0.4470 - accuracy: 0.7974 - val_loss: 0.4827 - val_accuracy: 0.7803\n",
      "Epoch 47/100\n",
      "20/20 - 0s - loss: 0.4602 - accuracy: 0.8054 - val_loss: 0.4812 - val_accuracy: 0.7803\n",
      "Epoch 48/100\n",
      "20/20 - 0s - loss: 0.4623 - accuracy: 0.8134 - val_loss: 0.4769 - val_accuracy: 0.7879\n",
      "Epoch 49/100\n",
      "20/20 - 0s - loss: 0.4507 - accuracy: 0.8214 - val_loss: 0.4805 - val_accuracy: 0.7879\n",
      "Epoch 50/100\n",
      "20/20 - 0s - loss: 0.4639 - accuracy: 0.8038 - val_loss: 0.4752 - val_accuracy: 0.7879\n",
      "Epoch 51/100\n",
      "20/20 - 0s - loss: 0.4396 - accuracy: 0.8214 - val_loss: 0.4809 - val_accuracy: 0.7803\n",
      "Epoch 52/100\n",
      "20/20 - 0s - loss: 0.4575 - accuracy: 0.7959 - val_loss: 0.4791 - val_accuracy: 0.7917\n",
      "Epoch 53/100\n",
      "20/20 - 0s - loss: 0.4440 - accuracy: 0.8198 - val_loss: 0.4734 - val_accuracy: 0.7917\n",
      "Epoch 54/100\n",
      "20/20 - 0s - loss: 0.4658 - accuracy: 0.8086 - val_loss: 0.4940 - val_accuracy: 0.7689\n",
      "Epoch 55/100\n",
      "20/20 - 0s - loss: 0.4575 - accuracy: 0.8054 - val_loss: 0.4717 - val_accuracy: 0.7955\n",
      "Epoch 56/100\n",
      "20/20 - 0s - loss: 0.4624 - accuracy: 0.7943 - val_loss: 0.4733 - val_accuracy: 0.7765\n",
      "Epoch 57/100\n",
      "20/20 - 0s - loss: 0.4501 - accuracy: 0.8118 - val_loss: 0.4969 - val_accuracy: 0.7500\n",
      "Epoch 58/100\n",
      "20/20 - 0s - loss: 0.4574 - accuracy: 0.8134 - val_loss: 0.4761 - val_accuracy: 0.7727\n",
      "Epoch 59/100\n",
      "20/20 - 0s - loss: 0.4694 - accuracy: 0.7959 - val_loss: 0.4875 - val_accuracy: 0.7614\n",
      "Epoch 60/100\n",
      "20/20 - 0s - loss: 0.4438 - accuracy: 0.8102 - val_loss: 0.4722 - val_accuracy: 0.7955\n",
      "Epoch 61/100\n",
      "20/20 - 0s - loss: 0.4542 - accuracy: 0.7927 - val_loss: 0.4683 - val_accuracy: 0.7955\n",
      "Epoch 62/100\n",
      "20/20 - 0s - loss: 0.4541 - accuracy: 0.8038 - val_loss: 0.4643 - val_accuracy: 0.7992\n",
      "Epoch 63/100\n",
      "20/20 - 0s - loss: 0.4478 - accuracy: 0.8182 - val_loss: 0.4661 - val_accuracy: 0.8030\n",
      "Epoch 64/100\n",
      "20/20 - 0s - loss: 0.4715 - accuracy: 0.8038 - val_loss: 0.4718 - val_accuracy: 0.7992\n",
      "Epoch 65/100\n",
      "20/20 - 0s - loss: 0.4467 - accuracy: 0.8214 - val_loss: 0.4689 - val_accuracy: 0.7955\n",
      "Epoch 66/100\n",
      "20/20 - 0s - loss: 0.4488 - accuracy: 0.8262 - val_loss: 0.4711 - val_accuracy: 0.8030\n",
      "Epoch 67/100\n",
      "20/20 - 0s - loss: 0.4422 - accuracy: 0.8246 - val_loss: 0.4706 - val_accuracy: 0.7917\n",
      "Epoch 68/100\n",
      "20/20 - 0s - loss: 0.4328 - accuracy: 0.8182 - val_loss: 0.4694 - val_accuracy: 0.7992\n",
      "Epoch 69/100\n",
      "20/20 - 0s - loss: 0.4541 - accuracy: 0.8166 - val_loss: 0.4621 - val_accuracy: 0.8030\n",
      "Epoch 70/100\n",
      "20/20 - 0s - loss: 0.4249 - accuracy: 0.8357 - val_loss: 0.4591 - val_accuracy: 0.8030\n",
      "Epoch 71/100\n",
      "20/20 - 0s - loss: 0.4549 - accuracy: 0.8038 - val_loss: 0.4632 - val_accuracy: 0.8068\n",
      "Epoch 72/100\n",
      "20/20 - 0s - loss: 0.4298 - accuracy: 0.8341 - val_loss: 0.4715 - val_accuracy: 0.8068\n",
      "Epoch 73/100\n",
      "20/20 - 0s - loss: 0.4379 - accuracy: 0.8214 - val_loss: 0.4660 - val_accuracy: 0.7803\n",
      "Epoch 74/100\n",
      "20/20 - 0s - loss: 0.4466 - accuracy: 0.8166 - val_loss: 0.4697 - val_accuracy: 0.7841\n",
      "Epoch 75/100\n",
      "20/20 - 0s - loss: 0.4286 - accuracy: 0.8150 - val_loss: 0.4623 - val_accuracy: 0.7765\n",
      "Epoch 76/100\n",
      "20/20 - 0s - loss: 0.4539 - accuracy: 0.8038 - val_loss: 0.4569 - val_accuracy: 0.8106\n",
      "Epoch 77/100\n",
      "20/20 - 0s - loss: 0.4316 - accuracy: 0.8198 - val_loss: 0.4533 - val_accuracy: 0.7917\n",
      "Epoch 78/100\n",
      "20/20 - 0s - loss: 0.4670 - accuracy: 0.8150 - val_loss: 0.4596 - val_accuracy: 0.7992\n",
      "Epoch 79/100\n",
      "20/20 - 0s - loss: 0.4458 - accuracy: 0.8070 - val_loss: 0.4610 - val_accuracy: 0.8030\n",
      "Epoch 80/100\n",
      "20/20 - 0s - loss: 0.4644 - accuracy: 0.8022 - val_loss: 0.4606 - val_accuracy: 0.8030\n",
      "Epoch 81/100\n",
      "20/20 - 0s - loss: 0.4420 - accuracy: 0.8070 - val_loss: 0.4515 - val_accuracy: 0.8144\n",
      "Epoch 82/100\n",
      "20/20 - 0s - loss: 0.4508 - accuracy: 0.7959 - val_loss: 0.4567 - val_accuracy: 0.8106\n",
      "Epoch 83/100\n",
      "20/20 - 0s - loss: 0.4552 - accuracy: 0.7990 - val_loss: 0.4662 - val_accuracy: 0.7992\n",
      "Epoch 84/100\n",
      "20/20 - 0s - loss: 0.4390 - accuracy: 0.8166 - val_loss: 0.4777 - val_accuracy: 0.7689\n",
      "Epoch 85/100\n",
      "20/20 - 0s - loss: 0.4422 - accuracy: 0.8006 - val_loss: 0.4717 - val_accuracy: 0.7841\n",
      "Epoch 86/100\n",
      "20/20 - 0s - loss: 0.4436 - accuracy: 0.8070 - val_loss: 0.4607 - val_accuracy: 0.8182\n",
      "Epoch 87/100\n",
      "20/20 - 0s - loss: 0.4515 - accuracy: 0.8038 - val_loss: 0.4590 - val_accuracy: 0.7955\n",
      "Epoch 88/100\n",
      "20/20 - 0s - loss: 0.4186 - accuracy: 0.8389 - val_loss: 0.4632 - val_accuracy: 0.8030\n",
      "Epoch 89/100\n",
      "20/20 - 0s - loss: 0.4343 - accuracy: 0.8262 - val_loss: 0.4553 - val_accuracy: 0.8068\n",
      "Epoch 90/100\n",
      "20/20 - 0s - loss: 0.4495 - accuracy: 0.7974 - val_loss: 0.4560 - val_accuracy: 0.7992\n",
      "Epoch 91/100\n",
      "20/20 - 0s - loss: 0.4309 - accuracy: 0.8070 - val_loss: 0.4519 - val_accuracy: 0.8106\n",
      "Epoch 92/100\n",
      "20/20 - 0s - loss: 0.4492 - accuracy: 0.8054 - val_loss: 0.4525 - val_accuracy: 0.8030\n",
      "Epoch 93/100\n",
      "20/20 - 0s - loss: 0.4506 - accuracy: 0.8070 - val_loss: 0.4535 - val_accuracy: 0.8030\n",
      "Epoch 94/100\n",
      "20/20 - 0s - loss: 0.4293 - accuracy: 0.8166 - val_loss: 0.4569 - val_accuracy: 0.8030\n",
      "Epoch 95/100\n",
      "20/20 - 0s - loss: 0.4301 - accuracy: 0.8214 - val_loss: 0.4695 - val_accuracy: 0.7955\n",
      "Epoch 96/100\n",
      "20/20 - 0s - loss: 0.4377 - accuracy: 0.8118 - val_loss: 0.4522 - val_accuracy: 0.8068\n",
      "Epoch 97/100\n",
      "20/20 - 0s - loss: 0.4424 - accuracy: 0.8198 - val_loss: 0.4465 - val_accuracy: 0.8106\n",
      "Epoch 98/100\n",
      "20/20 - 0s - loss: 0.4346 - accuracy: 0.8182 - val_loss: 0.4632 - val_accuracy: 0.8030\n",
      "Epoch 99/100\n",
      "20/20 - 0s - loss: 0.4449 - accuracy: 0.8182 - val_loss: 0.4511 - val_accuracy: 0.7955\n",
      "Epoch 100/100\n",
      "20/20 - 0s - loss: 0.4358 - accuracy: 0.8166 - val_loss: 0.4713 - val_accuracy: 0.7841\n"
     ]
    }
   ],
   "source": [
    "# Fit the model\n",
    "history = model.fit(X_train, y_train, validation_data= (X_test, y_test), epochs=100, batch_size=32, verbose=2)"
   ]
  },
  {
   "cell_type": "code",
   "execution_count": 15,
   "metadata": {
    "colab": {
     "base_uri": "https://localhost:8080/",
     "height": 295
    },
    "id": "OOMPjrDuYsTZ",
    "outputId": "ace90972-fa49-49c5-812c-c1247a6804a3"
   },
   "outputs": [
    {
     "data": {
      "image/png": "[encoded data removed]",
      "text/plain": [
       "<Figure size 432x288 with 1 Axes>"
      ]
     },
     "metadata": {
      "needs_background": "light",
      "tags": []
     },
     "output_type": "display_data"
    }
   ],
   "source": [
    "#Visualize the models accuracy\n",
    "plt.plot(history.history['accuracy'])\n",
    "plt.plot(history.history['val_accuracy'])\n",
    "plt.title('Model Accuracy')\n",
    "plt.ylabel('Accuracy')\n",
    "plt.xlabel('Epoch')\n",
    "plt.legend(['Train', 'Val'], loc='upper left')\n",
    "plt.show()"
   ]
  },
  {
   "cell_type": "code",
   "execution_count": 16,
   "metadata": {
    "colab": {
     "base_uri": "https://localhost:8080/",
     "height": 295
    },
    "id": "SCceMfpeYybw",
    "outputId": "6771a4cc-ceca-48e7-b764-ac2ad6a39c25"
   },
   "outputs": [
    {
     "data": {
      "image/png": "[encoded data removed]",
      "text/plain": [
       "<Figure size 432x288 with 1 Axes>"
      ]
     },
     "metadata": {
      "needs_background": "light",
      "tags": []
     },
     "output_type": "display_data"
    }
   ],
   "source": [
    "#Visualize the model's loss\n",
    "plt.plot(history.history['loss'])\n",
    "plt.plot(history.history['val_loss'])\n",
    "plt.title('Model Loss')\n",
    "plt.ylabel('Loss')\n",
    "plt.xlabel('Epoch')\n",
    "plt.legend(['Train', 'Val'], loc='upper left')\n",
    "plt.show()"
   ]
  },
  {
   "cell_type": "code",
   "execution_count": 19,
   "metadata": {
    "colab": {
     "base_uri": "https://localhost:8080/",
     "height": 424
    },
    "id": "3nftlNtNg9C8",
    "outputId": "de1cd3ef-b24b-44cc-c33b-ed74a2c13e63"
   },
   "outputs": [
    {
     "data": {
      "text/html": [
       "<div>\n",
       "<style scoped>\n",
       "    .dataframe tbody tr th:only-of-type {\n",
       "        vertical-align: middle;\n",
       "    }\n",
       "\n",
       "    .dataframe tbody tr th {\n",
       "        vertical-align: top;\n",
       "    }\n",
       "\n",
       "    .dataframe thead th {\n",
       "        text-align: right;\n",
       "    }\n",
       "</style>\n",
       "<table border=\"1\" class=\"dataframe\">\n",
       "  <thead>\n",
       "    <tr style=\"text-align: right;\">\n",
       "      <th></th>\n",
       "      <th>loss</th>\n",
       "      <th>accuracy</th>\n",
       "      <th>val_loss</th>\n",
       "      <th>val_accuracy</th>\n",
       "      <th>epoch</th>\n",
       "    </tr>\n",
       "  </thead>\n",
       "  <tbody>\n",
       "    <tr>\n",
       "      <th>96</th>\n",
       "      <td>0.442443</td>\n",
       "      <td>0.819777</td>\n",
       "      <td>0.446476</td>\n",
       "      <td>0.810606</td>\n",
       "      <td>96</td>\n",
       "    </tr>\n",
       "    <tr>\n",
       "      <th>98</th>\n",
       "      <td>0.444863</td>\n",
       "      <td>0.818182</td>\n",
       "      <td>0.451107</td>\n",
       "      <td>0.795455</td>\n",
       "      <td>98</td>\n",
       "    </tr>\n",
       "    <tr>\n",
       "      <th>80</th>\n",
       "      <td>0.442048</td>\n",
       "      <td>0.807018</td>\n",
       "      <td>0.451493</td>\n",
       "      <td>0.814394</td>\n",
       "      <td>80</td>\n",
       "    </tr>\n",
       "    <tr>\n",
       "      <th>90</th>\n",
       "      <td>0.430855</td>\n",
       "      <td>0.807018</td>\n",
       "      <td>0.451893</td>\n",
       "      <td>0.810606</td>\n",
       "      <td>90</td>\n",
       "    </tr>\n",
       "    <tr>\n",
       "      <th>95</th>\n",
       "      <td>0.437722</td>\n",
       "      <td>0.811802</td>\n",
       "      <td>0.452224</td>\n",
       "      <td>0.806818</td>\n",
       "      <td>95</td>\n",
       "    </tr>\n",
       "    <tr>\n",
       "      <th>...</th>\n",
       "      <td>...</td>\n",
       "      <td>...</td>\n",
       "      <td>...</td>\n",
       "      <td>...</td>\n",
       "      <td>...</td>\n",
       "    </tr>\n",
       "    <tr>\n",
       "      <th>7</th>\n",
       "      <td>0.630699</td>\n",
       "      <td>0.645933</td>\n",
       "      <td>0.596778</td>\n",
       "      <td>0.693182</td>\n",
       "      <td>7</td>\n",
       "    </tr>\n",
       "    <tr>\n",
       "      <th>2</th>\n",
       "      <td>0.635715</td>\n",
       "      <td>0.647528</td>\n",
       "      <td>0.600855</td>\n",
       "      <td>0.689394</td>\n",
       "      <td>2</td>\n",
       "    </tr>\n",
       "    <tr>\n",
       "      <th>3</th>\n",
       "      <td>0.649959</td>\n",
       "      <td>0.634769</td>\n",
       "      <td>0.609342</td>\n",
       "      <td>0.681818</td>\n",
       "      <td>3</td>\n",
       "    </tr>\n",
       "    <tr>\n",
       "      <th>1</th>\n",
       "      <td>0.661096</td>\n",
       "      <td>0.629984</td>\n",
       "      <td>0.622580</td>\n",
       "      <td>0.693182</td>\n",
       "      <td>1</td>\n",
       "    </tr>\n",
       "    <tr>\n",
       "      <th>0</th>\n",
       "      <td>0.685901</td>\n",
       "      <td>0.591707</td>\n",
       "      <td>0.643075</td>\n",
       "      <td>0.643939</td>\n",
       "      <td>0</td>\n",
       "    </tr>\n",
       "  </tbody>\n",
       "</table>\n",
       "<p>100 rows × 5 columns</p>\n",
       "</div>"
      ],
      "text/plain": [
       "        loss  accuracy  val_loss  val_accuracy  epoch\n",
       "96  0.442443  0.819777  0.446476      0.810606     96\n",
       "98  0.444863  0.818182  0.451107      0.795455     98\n",
       "80  0.442048  0.807018  0.451493      0.814394     80\n",
       "90  0.430855  0.807018  0.451893      0.810606     90\n",
       "95  0.437722  0.811802  0.452224      0.806818     95\n",
       "..       ...       ...       ...           ...    ...\n",
       "7   0.630699  0.645933  0.596778      0.693182      7\n",
       "2   0.635715  0.647528  0.600855      0.689394      2\n",
       "3   0.649959  0.634769  0.609342      0.681818      3\n",
       "1   0.661096  0.629984  0.622580      0.693182      1\n",
       "0   0.685901  0.591707  0.643075      0.643939      0\n",
       "\n",
       "[100 rows x 5 columns]"
      ]
     },
     "execution_count": 19,
     "metadata": {
      "tags": []
     },
     "output_type": "execute_result"
    }
   ],
   "source": [
    "history_dataframe = pd.DataFrame(history.history)\n",
    "history_dataframe['epoch'] = history.epoch\n",
    "history_dataframe.sort_values(by='val_loss', ascending=True)"
   ]
  },
  {
   "cell_type": "markdown",
   "metadata": {
    "id": "3kbeLs27oBVm"
   },
   "source": [
    "#Kesimpulan\n",
    "Hasil terbaik diperoleh pada epoch ke-96 dengan nilai akurasi sebesar 81.06% dan nilai val_loss sebesar 0.4465. Telah dilakukan banyak percobaan dengan mengganti ke model wider, deeper, serta tweaking optimizer, dan hasil terbaik diperoleh dengan model ini."
   ]
  }
 ],
 "metadata": {
  "colab": {
   "collapsed_sections": [],
   "name": "Copy of Quiz2_Togi_Titanic.ipynb",
   "provenance": []
  },
  "kernelspec": {
   "display_name": "Python 3",
   "language": "python",
   "name": "python3"
  },
  "language_info": {
   "codemirror_mode": {
    "name": "ipython",
    "version": 3
   },
   "file_extension": ".py",
   "mimetype": "text/x-python",
   "name": "python",
   "nbconvert_exporter": "python",
   "pygments_lexer": "ipython3",
   "version": "3.8.5"
  }
 },
 "nbformat": 4,
 "nbformat_minor": 1
}
