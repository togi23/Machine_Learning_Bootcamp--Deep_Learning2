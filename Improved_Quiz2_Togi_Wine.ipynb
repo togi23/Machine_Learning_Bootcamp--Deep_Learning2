{
 "cells": [
  {
   "cell_type": "code",
   "execution_count": 1,
   "metadata": {
    "id": "4Scende_97Mi"
   },
   "outputs": [],
   "source": [
    "#Import Libraries dulu\n",
    "import pandas as pd\n",
    "import numpy as np\n",
    "from keras.models import Sequential\n",
    "from keras.layers import Dense\n",
    "from keras.optimizers import RMSprop\n",
    "import matplotlib.pyplot as plt\n",
    "import seaborn as sb"
   ]
  },
  {
   "cell_type": "code",
   "execution_count": 2,
   "metadata": {
    "id": "z1THfQ8uBTkx"
   },
   "outputs": [],
   "source": [
    "dataset = pd.read_csv('/content/drive/My Drive/winequality-white.csv', delimiter=';')"
   ]
  },
  {
   "cell_type": "code",
   "execution_count": 3,
   "metadata": {
    "colab": {
     "base_uri": "https://localhost:8080/",
     "height": 204
    },
    "id": "YH1ZOKlrB25a",
    "outputId": "787832ee-21c6-4674-949c-2fb0a6a173ad"
   },
   "outputs": [
    {
     "data": {
      "text/html": [
       "<div>\n",
       "<style scoped>\n",
       "    .dataframe tbody tr th:only-of-type {\n",
       "        vertical-align: middle;\n",
       "    }\n",
       "\n",
       "    .dataframe tbody tr th {\n",
       "        vertical-align: top;\n",
       "    }\n",
       "\n",
       "    .dataframe thead th {\n",
       "        text-align: right;\n",
       "    }\n",
       "</style>\n",
       "<table border=\"1\" class=\"dataframe\">\n",
       "  <thead>\n",
       "    <tr style=\"text-align: right;\">\n",
       "      <th></th>\n",
       "      <th>fixed acidity</th>\n",
       "      <th>volatile acidity</th>\n",
       "      <th>citric acid</th>\n",
       "      <th>residual sugar</th>\n",
       "      <th>chlorides</th>\n",
       "      <th>free sulfur dioxide</th>\n",
       "      <th>total sulfur dioxide</th>\n",
       "      <th>density</th>\n",
       "      <th>pH</th>\n",
       "      <th>sulphates</th>\n",
       "      <th>alcohol</th>\n",
       "      <th>quality</th>\n",
       "    </tr>\n",
       "  </thead>\n",
       "  <tbody>\n",
       "    <tr>\n",
       "      <th>0</th>\n",
       "      <td>7.0</td>\n",
       "      <td>0.27</td>\n",
       "      <td>0.36</td>\n",
       "      <td>20.7</td>\n",
       "      <td>0.045</td>\n",
       "      <td>45.0</td>\n",
       "      <td>170.0</td>\n",
       "      <td>1.0010</td>\n",
       "      <td>3.00</td>\n",
       "      <td>0.45</td>\n",
       "      <td>8.8</td>\n",
       "      <td>6</td>\n",
       "    </tr>\n",
       "    <tr>\n",
       "      <th>1</th>\n",
       "      <td>6.3</td>\n",
       "      <td>0.30</td>\n",
       "      <td>0.34</td>\n",
       "      <td>1.6</td>\n",
       "      <td>0.049</td>\n",
       "      <td>14.0</td>\n",
       "      <td>132.0</td>\n",
       "      <td>0.9940</td>\n",
       "      <td>3.30</td>\n",
       "      <td>0.49</td>\n",
       "      <td>9.5</td>\n",
       "      <td>6</td>\n",
       "    </tr>\n",
       "    <tr>\n",
       "      <th>2</th>\n",
       "      <td>8.1</td>\n",
       "      <td>0.28</td>\n",
       "      <td>0.40</td>\n",
       "      <td>6.9</td>\n",
       "      <td>0.050</td>\n",
       "      <td>30.0</td>\n",
       "      <td>97.0</td>\n",
       "      <td>0.9951</td>\n",
       "      <td>3.26</td>\n",
       "      <td>0.44</td>\n",
       "      <td>10.1</td>\n",
       "      <td>6</td>\n",
       "    </tr>\n",
       "    <tr>\n",
       "      <th>3</th>\n",
       "      <td>7.2</td>\n",
       "      <td>0.23</td>\n",
       "      <td>0.32</td>\n",
       "      <td>8.5</td>\n",
       "      <td>0.058</td>\n",
       "      <td>47.0</td>\n",
       "      <td>186.0</td>\n",
       "      <td>0.9956</td>\n",
       "      <td>3.19</td>\n",
       "      <td>0.40</td>\n",
       "      <td>9.9</td>\n",
       "      <td>6</td>\n",
       "    </tr>\n",
       "    <tr>\n",
       "      <th>4</th>\n",
       "      <td>7.2</td>\n",
       "      <td>0.23</td>\n",
       "      <td>0.32</td>\n",
       "      <td>8.5</td>\n",
       "      <td>0.058</td>\n",
       "      <td>47.0</td>\n",
       "      <td>186.0</td>\n",
       "      <td>0.9956</td>\n",
       "      <td>3.19</td>\n",
       "      <td>0.40</td>\n",
       "      <td>9.9</td>\n",
       "      <td>6</td>\n",
       "    </tr>\n",
       "  </tbody>\n",
       "</table>\n",
       "</div>"
      ],
      "text/plain": [
       "   fixed acidity  volatile acidity  citric acid  ...  sulphates  alcohol  quality\n",
       "0            7.0              0.27         0.36  ...       0.45      8.8        6\n",
       "1            6.3              0.30         0.34  ...       0.49      9.5        6\n",
       "2            8.1              0.28         0.40  ...       0.44     10.1        6\n",
       "3            7.2              0.23         0.32  ...       0.40      9.9        6\n",
       "4            7.2              0.23         0.32  ...       0.40      9.9        6\n",
       "\n",
       "[5 rows x 12 columns]"
      ]
     },
     "execution_count": 3,
     "metadata": {
      "tags": []
     },
     "output_type": "execute_result"
    }
   ],
   "source": [
    "dataset.head()"
   ]
  },
  {
   "cell_type": "code",
   "execution_count": 4,
   "metadata": {
    "colab": {
     "base_uri": "https://localhost:8080/",
     "height": 238
    },
    "id": "Pv2dFodOCMXt",
    "outputId": "994ee357-dc67-48b6-e563-3276621daea3"
   },
   "outputs": [
    {
     "data": {
      "text/plain": [
       "fixed acidity           0\n",
       "volatile acidity        0\n",
       "citric acid             0\n",
       "residual sugar          0\n",
       "chlorides               0\n",
       "free sulfur dioxide     0\n",
       "total sulfur dioxide    0\n",
       "density                 0\n",
       "pH                      0\n",
       "sulphates               0\n",
       "alcohol                 0\n",
       "quality                 0\n",
       "dtype: int64"
      ]
     },
     "execution_count": 4,
     "metadata": {
      "tags": []
     },
     "output_type": "execute_result"
    }
   ],
   "source": [
    "#Kita cari data null\n",
    "dataset.isnull().sum()"
   ]
  },
  {
   "cell_type": "code",
   "execution_count": 5,
   "metadata": {
    "colab": {
     "base_uri": "https://localhost:8080/",
     "height": 340
    },
    "id": "Gisw1pzvCSFa",
    "outputId": "0040f0d8-49a3-4582-f7b8-4d82e406df3c"
   },
   "outputs": [
    {
     "name": "stdout",
     "output_type": "stream",
     "text": [
      "<class 'pandas.core.frame.DataFrame'>\n",
      "RangeIndex: 4898 entries, 0 to 4897\n",
      "Data columns (total 12 columns):\n",
      " #   Column                Non-Null Count  Dtype  \n",
      "---  ------                --------------  -----  \n",
      " 0   fixed acidity         4898 non-null   float64\n",
      " 1   volatile acidity      4898 non-null   float64\n",
      " 2   citric acid           4898 non-null   float64\n",
      " 3   residual sugar        4898 non-null   float64\n",
      " 4   chlorides             4898 non-null   float64\n",
      " 5   free sulfur dioxide   4898 non-null   float64\n",
      " 6   total sulfur dioxide  4898 non-null   float64\n",
      " 7   density               4898 non-null   float64\n",
      " 8   pH                    4898 non-null   float64\n",
      " 9   sulphates             4898 non-null   float64\n",
      " 10  alcohol               4898 non-null   float64\n",
      " 11  quality               4898 non-null   int64  \n",
      "dtypes: float64(11), int64(1)\n",
      "memory usage: 459.3 KB\n"
     ]
    }
   ],
   "source": [
    "dataset.info()"
   ]
  },
  {
   "cell_type": "code",
   "execution_count": 6,
   "metadata": {
    "colab": {
     "base_uri": "https://localhost:8080/",
     "height": 34
    },
    "id": "p1DOLTaVDANu",
    "outputId": "3e8941cb-9deb-4f9a-a2b2-a0e4f44f1161"
   },
   "outputs": [
    {
     "data": {
      "text/plain": [
       "array([6, 5, 7, 8, 4, 3, 9])"
      ]
     },
     "execution_count": 6,
     "metadata": {
      "tags": []
     },
     "output_type": "execute_result"
    }
   ],
   "source": [
    "dataset.quality.unique()"
   ]
  },
  {
   "cell_type": "code",
   "execution_count": 7,
   "metadata": {
    "colab": {
     "base_uri": "https://localhost:8080/",
     "height": 34
    },
    "id": "YwWpoxqQD9bI",
    "outputId": "37c3c2e3-9c6d-4e79-c9d0-e679b9af9547"
   },
   "outputs": [
    {
     "data": {
      "text/plain": [
       "dtype('int64')"
      ]
     },
     "execution_count": 7,
     "metadata": {
      "tags": []
     },
     "output_type": "execute_result"
    }
   ],
   "source": [
    "#Kita bagi data menjadi 2\n",
    "#quality 3,4,5 -> Bad(0)\n",
    "#quality 6,7,8 -> Good (1)\n",
    "\n",
    "dataset['quality'].dtypes"
   ]
  },
  {
   "cell_type": "code",
   "execution_count": 8,
   "metadata": {
    "id": "528ZaXkrEUF3"
   },
   "outputs": [],
   "source": [
    "dataset[['quality']] = dataset['quality'].apply(lambda x : (x - x) if int(x) < 6 else ((x - x) + 1))"
   ]
  },
  {
   "cell_type": "code",
   "execution_count": 9,
   "metadata": {
    "colab": {
     "base_uri": "https://localhost:8080/",
     "height": 436
    },
    "id": "gD0C7-KcEaKS",
    "outputId": "ba68eb3b-c190-4d25-eb44-64883c96f9b7"
   },
   "outputs": [
    {
     "data": {
      "text/html": [
       "<div>\n",
       "<style scoped>\n",
       "    .dataframe tbody tr th:only-of-type {\n",
       "        vertical-align: middle;\n",
       "    }\n",
       "\n",
       "    .dataframe tbody tr th {\n",
       "        vertical-align: top;\n",
       "    }\n",
       "\n",
       "    .dataframe thead th {\n",
       "        text-align: right;\n",
       "    }\n",
       "</style>\n",
       "<table border=\"1\" class=\"dataframe\">\n",
       "  <thead>\n",
       "    <tr style=\"text-align: right;\">\n",
       "      <th></th>\n",
       "      <th>fixed acidity</th>\n",
       "      <th>volatile acidity</th>\n",
       "      <th>citric acid</th>\n",
       "      <th>residual sugar</th>\n",
       "      <th>chlorides</th>\n",
       "      <th>free sulfur dioxide</th>\n",
       "      <th>total sulfur dioxide</th>\n",
       "      <th>density</th>\n",
       "      <th>pH</th>\n",
       "      <th>sulphates</th>\n",
       "      <th>alcohol</th>\n",
       "      <th>quality</th>\n",
       "    </tr>\n",
       "  </thead>\n",
       "  <tbody>\n",
       "    <tr>\n",
       "      <th>0</th>\n",
       "      <td>7.0</td>\n",
       "      <td>0.27</td>\n",
       "      <td>0.36</td>\n",
       "      <td>20.7</td>\n",
       "      <td>0.045</td>\n",
       "      <td>45.0</td>\n",
       "      <td>170.0</td>\n",
       "      <td>1.00100</td>\n",
       "      <td>3.00</td>\n",
       "      <td>0.45</td>\n",
       "      <td>8.8</td>\n",
       "      <td>1</td>\n",
       "    </tr>\n",
       "    <tr>\n",
       "      <th>1</th>\n",
       "      <td>6.3</td>\n",
       "      <td>0.30</td>\n",
       "      <td>0.34</td>\n",
       "      <td>1.6</td>\n",
       "      <td>0.049</td>\n",
       "      <td>14.0</td>\n",
       "      <td>132.0</td>\n",
       "      <td>0.99400</td>\n",
       "      <td>3.30</td>\n",
       "      <td>0.49</td>\n",
       "      <td>9.5</td>\n",
       "      <td>1</td>\n",
       "    </tr>\n",
       "    <tr>\n",
       "      <th>2</th>\n",
       "      <td>8.1</td>\n",
       "      <td>0.28</td>\n",
       "      <td>0.40</td>\n",
       "      <td>6.9</td>\n",
       "      <td>0.050</td>\n",
       "      <td>30.0</td>\n",
       "      <td>97.0</td>\n",
       "      <td>0.99510</td>\n",
       "      <td>3.26</td>\n",
       "      <td>0.44</td>\n",
       "      <td>10.1</td>\n",
       "      <td>1</td>\n",
       "    </tr>\n",
       "    <tr>\n",
       "      <th>3</th>\n",
       "      <td>7.2</td>\n",
       "      <td>0.23</td>\n",
       "      <td>0.32</td>\n",
       "      <td>8.5</td>\n",
       "      <td>0.058</td>\n",
       "      <td>47.0</td>\n",
       "      <td>186.0</td>\n",
       "      <td>0.99560</td>\n",
       "      <td>3.19</td>\n",
       "      <td>0.40</td>\n",
       "      <td>9.9</td>\n",
       "      <td>1</td>\n",
       "    </tr>\n",
       "    <tr>\n",
       "      <th>4</th>\n",
       "      <td>7.2</td>\n",
       "      <td>0.23</td>\n",
       "      <td>0.32</td>\n",
       "      <td>8.5</td>\n",
       "      <td>0.058</td>\n",
       "      <td>47.0</td>\n",
       "      <td>186.0</td>\n",
       "      <td>0.99560</td>\n",
       "      <td>3.19</td>\n",
       "      <td>0.40</td>\n",
       "      <td>9.9</td>\n",
       "      <td>1</td>\n",
       "    </tr>\n",
       "    <tr>\n",
       "      <th>...</th>\n",
       "      <td>...</td>\n",
       "      <td>...</td>\n",
       "      <td>...</td>\n",
       "      <td>...</td>\n",
       "      <td>...</td>\n",
       "      <td>...</td>\n",
       "      <td>...</td>\n",
       "      <td>...</td>\n",
       "      <td>...</td>\n",
       "      <td>...</td>\n",
       "      <td>...</td>\n",
       "      <td>...</td>\n",
       "    </tr>\n",
       "    <tr>\n",
       "      <th>4893</th>\n",
       "      <td>6.2</td>\n",
       "      <td>0.21</td>\n",
       "      <td>0.29</td>\n",
       "      <td>1.6</td>\n",
       "      <td>0.039</td>\n",
       "      <td>24.0</td>\n",
       "      <td>92.0</td>\n",
       "      <td>0.99114</td>\n",
       "      <td>3.27</td>\n",
       "      <td>0.50</td>\n",
       "      <td>11.2</td>\n",
       "      <td>1</td>\n",
       "    </tr>\n",
       "    <tr>\n",
       "      <th>4894</th>\n",
       "      <td>6.6</td>\n",
       "      <td>0.32</td>\n",
       "      <td>0.36</td>\n",
       "      <td>8.0</td>\n",
       "      <td>0.047</td>\n",
       "      <td>57.0</td>\n",
       "      <td>168.0</td>\n",
       "      <td>0.99490</td>\n",
       "      <td>3.15</td>\n",
       "      <td>0.46</td>\n",
       "      <td>9.6</td>\n",
       "      <td>0</td>\n",
       "    </tr>\n",
       "    <tr>\n",
       "      <th>4895</th>\n",
       "      <td>6.5</td>\n",
       "      <td>0.24</td>\n",
       "      <td>0.19</td>\n",
       "      <td>1.2</td>\n",
       "      <td>0.041</td>\n",
       "      <td>30.0</td>\n",
       "      <td>111.0</td>\n",
       "      <td>0.99254</td>\n",
       "      <td>2.99</td>\n",
       "      <td>0.46</td>\n",
       "      <td>9.4</td>\n",
       "      <td>1</td>\n",
       "    </tr>\n",
       "    <tr>\n",
       "      <th>4896</th>\n",
       "      <td>5.5</td>\n",
       "      <td>0.29</td>\n",
       "      <td>0.30</td>\n",
       "      <td>1.1</td>\n",
       "      <td>0.022</td>\n",
       "      <td>20.0</td>\n",
       "      <td>110.0</td>\n",
       "      <td>0.98869</td>\n",
       "      <td>3.34</td>\n",
       "      <td>0.38</td>\n",
       "      <td>12.8</td>\n",
       "      <td>1</td>\n",
       "    </tr>\n",
       "    <tr>\n",
       "      <th>4897</th>\n",
       "      <td>6.0</td>\n",
       "      <td>0.21</td>\n",
       "      <td>0.38</td>\n",
       "      <td>0.8</td>\n",
       "      <td>0.020</td>\n",
       "      <td>22.0</td>\n",
       "      <td>98.0</td>\n",
       "      <td>0.98941</td>\n",
       "      <td>3.26</td>\n",
       "      <td>0.32</td>\n",
       "      <td>11.8</td>\n",
       "      <td>1</td>\n",
       "    </tr>\n",
       "  </tbody>\n",
       "</table>\n",
       "<p>4898 rows × 12 columns</p>\n",
       "</div>"
      ],
      "text/plain": [
       "      fixed acidity  volatile acidity  citric acid  ...  sulphates  alcohol  quality\n",
       "0               7.0              0.27         0.36  ...       0.45      8.8        1\n",
       "1               6.3              0.30         0.34  ...       0.49      9.5        1\n",
       "2               8.1              0.28         0.40  ...       0.44     10.1        1\n",
       "3               7.2              0.23         0.32  ...       0.40      9.9        1\n",
       "4               7.2              0.23         0.32  ...       0.40      9.9        1\n",
       "...             ...               ...          ...  ...        ...      ...      ...\n",
       "4893            6.2              0.21         0.29  ...       0.50     11.2        1\n",
       "4894            6.6              0.32         0.36  ...       0.46      9.6        0\n",
       "4895            6.5              0.24         0.19  ...       0.46      9.4        1\n",
       "4896            5.5              0.29         0.30  ...       0.38     12.8        1\n",
       "4897            6.0              0.21         0.38  ...       0.32     11.8        1\n",
       "\n",
       "[4898 rows x 12 columns]"
      ]
     },
     "execution_count": 9,
     "metadata": {
      "tags": []
     },
     "output_type": "execute_result"
    }
   ],
   "source": [
    "dataset"
   ]
  },
  {
   "cell_type": "code",
   "execution_count": 10,
   "metadata": {
    "id": "Dh9SCG02EjK2"
   },
   "outputs": [],
   "source": [
    "X = dataset.drop('quality', axis = 1) #Kita pisahkan label quality dari feature\n",
    "y = dataset['quality']"
   ]
  },
  {
   "cell_type": "code",
   "execution_count": 11,
   "metadata": {
    "id": "B5occKulF3UN"
   },
   "outputs": [],
   "source": [
    "# #Kita scaling dataset karna beberapa values dari feature jomplang bedanya dengan feature lain\n",
    "# from sklearn.preprocessing import StandardScaler\n",
    "# scaler = StandardScaler()\n",
    "\n",
    "# X = scaler.fit_transform(X.values)\n",
    "# y = scaler.fit_transform(y.values.reshape(-1,1)).flatten()"
   ]
  },
  {
   "cell_type": "code",
   "execution_count": 12,
   "metadata": {
    "id": "NpVqJcMrEwF4"
   },
   "outputs": [],
   "source": [
    "#Splitting dataset into train and test data\n",
    "from sklearn.model_selection import train_test_split\n",
    "X_train, X_test, y_train, y_test = train_test_split(X, y, test_size = 0.2, random_state = 10)"
   ]
  },
  {
   "cell_type": "code",
   "execution_count": 13,
   "metadata": {
    "colab": {
     "base_uri": "https://localhost:8080/",
     "height": 472
    },
    "id": "WwXMrvLWFNwV",
    "outputId": "3187a300-f84d-49e6-fb1b-8ba27ca35a3f"
   },
   "outputs": [
    {
     "data": {
      "text/html": [
       "<div>\n",
       "<style scoped>\n",
       "    .dataframe tbody tr th:only-of-type {\n",
       "        vertical-align: middle;\n",
       "    }\n",
       "\n",
       "    .dataframe tbody tr th {\n",
       "        vertical-align: top;\n",
       "    }\n",
       "\n",
       "    .dataframe thead th {\n",
       "        text-align: right;\n",
       "    }\n",
       "</style>\n",
       "<table border=\"1\" class=\"dataframe\">\n",
       "  <thead>\n",
       "    <tr style=\"text-align: right;\">\n",
       "      <th></th>\n",
       "      <th>fixed acidity</th>\n",
       "      <th>volatile acidity</th>\n",
       "      <th>citric acid</th>\n",
       "      <th>residual sugar</th>\n",
       "      <th>chlorides</th>\n",
       "      <th>free sulfur dioxide</th>\n",
       "      <th>total sulfur dioxide</th>\n",
       "      <th>density</th>\n",
       "      <th>pH</th>\n",
       "      <th>sulphates</th>\n",
       "      <th>alcohol</th>\n",
       "      <th>quality</th>\n",
       "    </tr>\n",
       "  </thead>\n",
       "  <tbody>\n",
       "    <tr>\n",
       "      <th>fixed acidity</th>\n",
       "      <td>1.000000</td>\n",
       "      <td>-0.022697</td>\n",
       "      <td>0.289181</td>\n",
       "      <td>0.089021</td>\n",
       "      <td>0.023086</td>\n",
       "      <td>-0.049396</td>\n",
       "      <td>0.091070</td>\n",
       "      <td>0.265331</td>\n",
       "      <td>-0.425858</td>\n",
       "      <td>-0.017143</td>\n",
       "      <td>-0.120881</td>\n",
       "      <td>-0.089749</td>\n",
       "    </tr>\n",
       "    <tr>\n",
       "      <th>volatile acidity</th>\n",
       "      <td>-0.022697</td>\n",
       "      <td>1.000000</td>\n",
       "      <td>-0.149472</td>\n",
       "      <td>0.064286</td>\n",
       "      <td>0.070512</td>\n",
       "      <td>-0.097012</td>\n",
       "      <td>0.089261</td>\n",
       "      <td>0.027114</td>\n",
       "      <td>-0.031915</td>\n",
       "      <td>-0.035728</td>\n",
       "      <td>0.067718</td>\n",
       "      <td>-0.225440</td>\n",
       "    </tr>\n",
       "    <tr>\n",
       "      <th>citric acid</th>\n",
       "      <td>0.289181</td>\n",
       "      <td>-0.149472</td>\n",
       "      <td>1.000000</td>\n",
       "      <td>0.094212</td>\n",
       "      <td>0.114364</td>\n",
       "      <td>0.094077</td>\n",
       "      <td>0.121131</td>\n",
       "      <td>0.149503</td>\n",
       "      <td>-0.163748</td>\n",
       "      <td>0.062331</td>\n",
       "      <td>-0.075729</td>\n",
       "      <td>-0.000700</td>\n",
       "    </tr>\n",
       "    <tr>\n",
       "      <th>residual sugar</th>\n",
       "      <td>0.089021</td>\n",
       "      <td>0.064286</td>\n",
       "      <td>0.094212</td>\n",
       "      <td>1.000000</td>\n",
       "      <td>0.088685</td>\n",
       "      <td>0.299098</td>\n",
       "      <td>0.401439</td>\n",
       "      <td>0.838966</td>\n",
       "      <td>-0.194133</td>\n",
       "      <td>-0.026664</td>\n",
       "      <td>-0.450631</td>\n",
       "      <td>-0.092756</td>\n",
       "    </tr>\n",
       "    <tr>\n",
       "      <th>chlorides</th>\n",
       "      <td>0.023086</td>\n",
       "      <td>0.070512</td>\n",
       "      <td>0.114364</td>\n",
       "      <td>0.088685</td>\n",
       "      <td>1.000000</td>\n",
       "      <td>0.101392</td>\n",
       "      <td>0.198910</td>\n",
       "      <td>0.257211</td>\n",
       "      <td>-0.090439</td>\n",
       "      <td>0.016763</td>\n",
       "      <td>-0.360189</td>\n",
       "      <td>-0.183939</td>\n",
       "    </tr>\n",
       "    <tr>\n",
       "      <th>free sulfur dioxide</th>\n",
       "      <td>-0.049396</td>\n",
       "      <td>-0.097012</td>\n",
       "      <td>0.094077</td>\n",
       "      <td>0.299098</td>\n",
       "      <td>0.101392</td>\n",
       "      <td>1.000000</td>\n",
       "      <td>0.615501</td>\n",
       "      <td>0.294210</td>\n",
       "      <td>-0.000618</td>\n",
       "      <td>0.059217</td>\n",
       "      <td>-0.250104</td>\n",
       "      <td>-0.001278</td>\n",
       "    </tr>\n",
       "    <tr>\n",
       "      <th>total sulfur dioxide</th>\n",
       "      <td>0.091070</td>\n",
       "      <td>0.089261</td>\n",
       "      <td>0.121131</td>\n",
       "      <td>0.401439</td>\n",
       "      <td>0.198910</td>\n",
       "      <td>0.615501</td>\n",
       "      <td>1.000000</td>\n",
       "      <td>0.529881</td>\n",
       "      <td>0.002321</td>\n",
       "      <td>0.134562</td>\n",
       "      <td>-0.448892</td>\n",
       "      <td>-0.170924</td>\n",
       "    </tr>\n",
       "    <tr>\n",
       "      <th>density</th>\n",
       "      <td>0.265331</td>\n",
       "      <td>0.027114</td>\n",
       "      <td>0.149503</td>\n",
       "      <td>0.838966</td>\n",
       "      <td>0.257211</td>\n",
       "      <td>0.294210</td>\n",
       "      <td>0.529881</td>\n",
       "      <td>1.000000</td>\n",
       "      <td>-0.093591</td>\n",
       "      <td>0.074493</td>\n",
       "      <td>-0.780138</td>\n",
       "      <td>-0.268696</td>\n",
       "    </tr>\n",
       "    <tr>\n",
       "      <th>pH</th>\n",
       "      <td>-0.425858</td>\n",
       "      <td>-0.031915</td>\n",
       "      <td>-0.163748</td>\n",
       "      <td>-0.194133</td>\n",
       "      <td>-0.090439</td>\n",
       "      <td>-0.000618</td>\n",
       "      <td>0.002321</td>\n",
       "      <td>-0.093591</td>\n",
       "      <td>1.000000</td>\n",
       "      <td>0.155951</td>\n",
       "      <td>0.121432</td>\n",
       "      <td>0.083687</td>\n",
       "    </tr>\n",
       "    <tr>\n",
       "      <th>sulphates</th>\n",
       "      <td>-0.017143</td>\n",
       "      <td>-0.035728</td>\n",
       "      <td>0.062331</td>\n",
       "      <td>-0.026664</td>\n",
       "      <td>0.016763</td>\n",
       "      <td>0.059217</td>\n",
       "      <td>0.134562</td>\n",
       "      <td>0.074493</td>\n",
       "      <td>0.155951</td>\n",
       "      <td>1.000000</td>\n",
       "      <td>-0.017433</td>\n",
       "      <td>0.051858</td>\n",
       "    </tr>\n",
       "    <tr>\n",
       "      <th>alcohol</th>\n",
       "      <td>-0.120881</td>\n",
       "      <td>0.067718</td>\n",
       "      <td>-0.075729</td>\n",
       "      <td>-0.450631</td>\n",
       "      <td>-0.360189</td>\n",
       "      <td>-0.250104</td>\n",
       "      <td>-0.448892</td>\n",
       "      <td>-0.780138</td>\n",
       "      <td>0.121432</td>\n",
       "      <td>-0.017433</td>\n",
       "      <td>1.000000</td>\n",
       "      <td>0.383280</td>\n",
       "    </tr>\n",
       "    <tr>\n",
       "      <th>quality</th>\n",
       "      <td>-0.089749</td>\n",
       "      <td>-0.225440</td>\n",
       "      <td>-0.000700</td>\n",
       "      <td>-0.092756</td>\n",
       "      <td>-0.183939</td>\n",
       "      <td>-0.001278</td>\n",
       "      <td>-0.170924</td>\n",
       "      <td>-0.268696</td>\n",
       "      <td>0.083687</td>\n",
       "      <td>0.051858</td>\n",
       "      <td>0.383280</td>\n",
       "      <td>1.000000</td>\n",
       "    </tr>\n",
       "  </tbody>\n",
       "</table>\n",
       "</div>"
      ],
      "text/plain": [
       "                      fixed acidity  volatile acidity  ...   alcohol   quality\n",
       "fixed acidity              1.000000         -0.022697  ... -0.120881 -0.089749\n",
       "volatile acidity          -0.022697          1.000000  ...  0.067718 -0.225440\n",
       "citric acid                0.289181         -0.149472  ... -0.075729 -0.000700\n",
       "residual sugar             0.089021          0.064286  ... -0.450631 -0.092756\n",
       "chlorides                  0.023086          0.070512  ... -0.360189 -0.183939\n",
       "free sulfur dioxide       -0.049396         -0.097012  ... -0.250104 -0.001278\n",
       "total sulfur dioxide       0.091070          0.089261  ... -0.448892 -0.170924\n",
       "density                    0.265331          0.027114  ... -0.780138 -0.268696\n",
       "pH                        -0.425858         -0.031915  ...  0.121432  0.083687\n",
       "sulphates                 -0.017143         -0.035728  ... -0.017433  0.051858\n",
       "alcohol                   -0.120881          0.067718  ...  1.000000  0.383280\n",
       "quality                   -0.089749         -0.225440  ...  0.383280  1.000000\n",
       "\n",
       "[12 rows x 12 columns]"
      ]
     },
     "execution_count": 13,
     "metadata": {
      "tags": []
     },
     "output_type": "execute_result"
    }
   ],
   "source": [
    "#Kita lihat korelasi dulu\n",
    "corr = dataset.corr()\n",
    "\n",
    "corr"
   ]
  },
  {
   "cell_type": "code",
   "execution_count": 14,
   "metadata": {
    "colab": {
     "base_uri": "https://localhost:8080/",
     "height": 1000
    },
    "id": "_2LMfK9zFh2z",
    "outputId": "2ff3508d-5f81-4e89-99cc-ee264373db6b"
   },
   "outputs": [
    {
     "data": {
      "text/plain": [
       "<matplotlib.axes._subplots.AxesSubplot at 0x7fdf29e7d748>"
      ]
     },
     "execution_count": 14,
     "metadata": {
      "tags": []
     },
     "output_type": "execute_result"
    },
    {
     "data": {
      "image/png": "[encoded data removed]",
      "text/plain": [
       "<Figure size 1440x1440 with 2 Axes>"
      ]
     },
     "metadata": {
      "needs_background": "light",
      "tags": []
     },
     "output_type": "display_data"
    }
   ],
   "source": [
    "plt.figure(figsize=(20,20))\n",
    "sb.heatmap(corr, cbar=True, square= True, fmt='.1f', annot=True, annot_kws={'size':15}, cmap='Greens')"
   ]
  },
  {
   "cell_type": "code",
   "execution_count": 15,
   "metadata": {
    "colab": {
     "base_uri": "https://localhost:8080/",
     "height": 323
    },
    "id": "UV83VmZhFoQY",
    "outputId": "af4f25c1-23e6-4906-9a2f-ed5230d7d84b"
   },
   "outputs": [
    {
     "name": "stdout",
     "output_type": "stream",
     "text": [
      "Model: \"sequential\"\n",
      "_________________________________________________________________\n",
      "Layer (type)                 Output Shape              Param #   \n",
      "=================================================================\n",
      "dense (Dense)                (None, 32)                384       \n",
      "_________________________________________________________________\n",
      "dense_1 (Dense)              (None, 64)                2112      \n",
      "_________________________________________________________________\n",
      "dense_2 (Dense)              (None, 128)               8320      \n",
      "_________________________________________________________________\n",
      "dense_3 (Dense)              (None, 384)               49536     \n",
      "_________________________________________________________________\n",
      "dense_4 (Dense)              (None, 1)                 385       \n",
      "=================================================================\n",
      "Total params: 60,737\n",
      "Trainable params: 60,737\n",
      "Non-trainable params: 0\n",
      "_________________________________________________________________\n"
     ]
    }
   ],
   "source": [
    "#Kita buat model sederhana\n",
    "from keras.optimizers import Adamax\n",
    "\n",
    "model = Sequential()\n",
    "model.add(Dense(32, input_dim=11 , activation= 'relu' )) #input dim 11 karna feature kita 11\n",
    "model.add(Dense(64,  activation= 'relu' ))\n",
    "model.add(Dense(128,  activation= 'relu' ))\n",
    "model.add(Dense(384,  activation= 'relu' ))\n",
    "\n",
    "\n",
    "model.add(Dense(1,  activation= 'sigmoid' ))\n",
    "\n",
    "opt = Adamax(learning_rate=0.001) #Pakai optimizer adam karena paling banyak digunakan dan hasilnya lumayan bagus\n",
    "\n",
    "model.compile(loss='binary_crossentropy', optimizer=opt, metrics=['accuracy'])\n",
    "\n",
    "model.summary()"
   ]
  },
  {
   "cell_type": "code",
   "execution_count": 16,
   "metadata": {
    "colab": {
     "base_uri": "https://localhost:8080/",
     "height": 1000
    },
    "id": "RwW9tb2NGwZX",
    "outputId": "9177c9f9-c232-4899-9148-f204c60edbff"
   },
   "outputs": [
    {
     "name": "stdout",
     "output_type": "stream",
     "text": [
      "Epoch 1/100\n",
      "327/327 - 1s - loss: 0.6866 - accuracy: 0.6388 - val_loss: 0.5682 - val_accuracy: 0.6949\n",
      "Epoch 2/100\n",
      "327/327 - 0s - loss: 0.6254 - accuracy: 0.6626 - val_loss: 0.5851 - val_accuracy: 0.6857\n",
      "Epoch 3/100\n",
      "327/327 - 0s - loss: 0.6044 - accuracy: 0.6687 - val_loss: 0.5750 - val_accuracy: 0.6857\n",
      "Epoch 4/100\n",
      "327/327 - 0s - loss: 0.5948 - accuracy: 0.6751 - val_loss: 0.5566 - val_accuracy: 0.6949\n",
      "Epoch 5/100\n",
      "327/327 - 0s - loss: 0.5793 - accuracy: 0.6771 - val_loss: 0.5453 - val_accuracy: 0.6898\n",
      "Epoch 6/100\n",
      "327/327 - 0s - loss: 0.5713 - accuracy: 0.6858 - val_loss: 0.5542 - val_accuracy: 0.6888\n",
      "Epoch 7/100\n",
      "327/327 - 0s - loss: 0.5680 - accuracy: 0.6802 - val_loss: 0.5493 - val_accuracy: 0.6929\n",
      "Epoch 8/100\n",
      "327/327 - 0s - loss: 0.5623 - accuracy: 0.6879 - val_loss: 0.5676 - val_accuracy: 0.6806\n",
      "Epoch 9/100\n",
      "327/327 - 0s - loss: 0.5572 - accuracy: 0.6968 - val_loss: 0.5542 - val_accuracy: 0.6867\n",
      "Epoch 10/100\n",
      "327/327 - 0s - loss: 0.5605 - accuracy: 0.6873 - val_loss: 0.5474 - val_accuracy: 0.6918\n",
      "Epoch 11/100\n",
      "327/327 - 0s - loss: 0.5525 - accuracy: 0.7014 - val_loss: 0.5396 - val_accuracy: 0.6918\n",
      "Epoch 12/100\n",
      "327/327 - 0s - loss: 0.5495 - accuracy: 0.6955 - val_loss: 0.5362 - val_accuracy: 0.6929\n",
      "Epoch 13/100\n",
      "327/327 - 0s - loss: 0.5449 - accuracy: 0.7032 - val_loss: 0.5370 - val_accuracy: 0.6980\n",
      "Epoch 14/100\n",
      "327/327 - 0s - loss: 0.5457 - accuracy: 0.7004 - val_loss: 0.5345 - val_accuracy: 0.7082\n",
      "Epoch 15/100\n",
      "327/327 - 0s - loss: 0.5428 - accuracy: 0.6942 - val_loss: 0.5310 - val_accuracy: 0.6939\n",
      "Epoch 16/100\n",
      "327/327 - 0s - loss: 0.5353 - accuracy: 0.7065 - val_loss: 0.5344 - val_accuracy: 0.7112\n",
      "Epoch 17/100\n",
      "327/327 - 0s - loss: 0.5378 - accuracy: 0.7027 - val_loss: 0.5336 - val_accuracy: 0.7031\n",
      "Epoch 18/100\n",
      "327/327 - 0s - loss: 0.5355 - accuracy: 0.6968 - val_loss: 0.5422 - val_accuracy: 0.6918\n",
      "Epoch 19/100\n",
      "327/327 - 1s - loss: 0.5361 - accuracy: 0.7070 - val_loss: 0.5287 - val_accuracy: 0.7020\n",
      "Epoch 20/100\n",
      "327/327 - 0s - loss: 0.5346 - accuracy: 0.7052 - val_loss: 0.5323 - val_accuracy: 0.6959\n",
      "Epoch 21/100\n",
      "327/327 - 0s - loss: 0.5319 - accuracy: 0.7116 - val_loss: 0.5335 - val_accuracy: 0.6980\n",
      "Epoch 22/100\n",
      "327/327 - 0s - loss: 0.5371 - accuracy: 0.7034 - val_loss: 0.5231 - val_accuracy: 0.7163\n",
      "Epoch 23/100\n",
      "327/327 - 0s - loss: 0.5283 - accuracy: 0.7134 - val_loss: 0.5181 - val_accuracy: 0.7082\n",
      "Epoch 24/100\n",
      "327/327 - 0s - loss: 0.5251 - accuracy: 0.7085 - val_loss: 0.5179 - val_accuracy: 0.7071\n",
      "Epoch 25/100\n",
      "327/327 - 0s - loss: 0.5255 - accuracy: 0.7139 - val_loss: 0.5149 - val_accuracy: 0.7092\n",
      "Epoch 26/100\n",
      "327/327 - 0s - loss: 0.5299 - accuracy: 0.7024 - val_loss: 0.5228 - val_accuracy: 0.6959\n",
      "Epoch 27/100\n",
      "327/327 - 0s - loss: 0.5265 - accuracy: 0.7129 - val_loss: 0.5309 - val_accuracy: 0.7133\n",
      "Epoch 28/100\n",
      "327/327 - 0s - loss: 0.5253 - accuracy: 0.7072 - val_loss: 0.5215 - val_accuracy: 0.7061\n",
      "Epoch 29/100\n",
      "327/327 - 0s - loss: 0.5178 - accuracy: 0.7169 - val_loss: 0.5100 - val_accuracy: 0.7133\n",
      "Epoch 30/100\n",
      "327/327 - 0s - loss: 0.5260 - accuracy: 0.7195 - val_loss: 0.5215 - val_accuracy: 0.7041\n",
      "Epoch 31/100\n",
      "327/327 - 0s - loss: 0.5279 - accuracy: 0.7118 - val_loss: 0.5439 - val_accuracy: 0.6980\n",
      "Epoch 32/100\n",
      "327/327 - 0s - loss: 0.5230 - accuracy: 0.7164 - val_loss: 0.5118 - val_accuracy: 0.7061\n",
      "Epoch 33/100\n",
      "327/327 - 0s - loss: 0.5244 - accuracy: 0.7152 - val_loss: 0.5390 - val_accuracy: 0.7102\n",
      "Epoch 34/100\n",
      "327/327 - 0s - loss: 0.5134 - accuracy: 0.7266 - val_loss: 0.5538 - val_accuracy: 0.7071\n",
      "Epoch 35/100\n",
      "327/327 - 0s - loss: 0.5176 - accuracy: 0.7195 - val_loss: 0.5240 - val_accuracy: 0.7214\n",
      "Epoch 36/100\n",
      "327/327 - 0s - loss: 0.5172 - accuracy: 0.7289 - val_loss: 0.5164 - val_accuracy: 0.7265\n",
      "Epoch 37/100\n",
      "327/327 - 0s - loss: 0.5164 - accuracy: 0.7221 - val_loss: 0.5171 - val_accuracy: 0.7031\n",
      "Epoch 38/100\n",
      "327/327 - 0s - loss: 0.5193 - accuracy: 0.7205 - val_loss: 0.5132 - val_accuracy: 0.7082\n",
      "Epoch 39/100\n",
      "327/327 - 0s - loss: 0.5129 - accuracy: 0.7282 - val_loss: 0.5128 - val_accuracy: 0.7071\n",
      "Epoch 40/100\n",
      "327/327 - 0s - loss: 0.5171 - accuracy: 0.7221 - val_loss: 0.5235 - val_accuracy: 0.7143\n",
      "Epoch 41/100\n",
      "327/327 - 0s - loss: 0.5119 - accuracy: 0.7310 - val_loss: 0.5244 - val_accuracy: 0.7255\n",
      "Epoch 42/100\n",
      "327/327 - 0s - loss: 0.5148 - accuracy: 0.7246 - val_loss: 0.5268 - val_accuracy: 0.7235\n",
      "Epoch 43/100\n",
      "327/327 - 0s - loss: 0.5122 - accuracy: 0.7307 - val_loss: 0.5169 - val_accuracy: 0.7204\n",
      "Epoch 44/100\n",
      "327/327 - 0s - loss: 0.5153 - accuracy: 0.7200 - val_loss: 0.5187 - val_accuracy: 0.7071\n",
      "Epoch 45/100\n",
      "327/327 - 0s - loss: 0.5110 - accuracy: 0.7254 - val_loss: 0.5134 - val_accuracy: 0.7296\n",
      "Epoch 46/100\n",
      "327/327 - 0s - loss: 0.5175 - accuracy: 0.7203 - val_loss: 0.5114 - val_accuracy: 0.7224\n",
      "Epoch 47/100\n",
      "327/327 - 0s - loss: 0.5104 - accuracy: 0.7330 - val_loss: 0.5861 - val_accuracy: 0.6653\n",
      "Epoch 48/100\n",
      "327/327 - 0s - loss: 0.5059 - accuracy: 0.7287 - val_loss: 0.5057 - val_accuracy: 0.7214\n",
      "Epoch 49/100\n",
      "327/327 - 0s - loss: 0.5063 - accuracy: 0.7320 - val_loss: 0.5222 - val_accuracy: 0.7357\n",
      "Epoch 50/100\n",
      "327/327 - 0s - loss: 0.5091 - accuracy: 0.7269 - val_loss: 0.5072 - val_accuracy: 0.7347\n",
      "Epoch 51/100\n",
      "327/327 - 1s - loss: 0.5056 - accuracy: 0.7343 - val_loss: 0.5039 - val_accuracy: 0.7224\n",
      "Epoch 52/100\n",
      "327/327 - 1s - loss: 0.5039 - accuracy: 0.7340 - val_loss: 0.5143 - val_accuracy: 0.7286\n",
      "Epoch 53/100\n",
      "327/327 - 1s - loss: 0.5002 - accuracy: 0.7381 - val_loss: 0.5104 - val_accuracy: 0.7418\n",
      "Epoch 54/100\n",
      "327/327 - 1s - loss: 0.5069 - accuracy: 0.7340 - val_loss: 0.5052 - val_accuracy: 0.7143\n",
      "Epoch 55/100\n",
      "327/327 - 1s - loss: 0.5088 - accuracy: 0.7295 - val_loss: 0.5060 - val_accuracy: 0.7276\n",
      "Epoch 56/100\n",
      "327/327 - 1s - loss: 0.5006 - accuracy: 0.7318 - val_loss: 0.5010 - val_accuracy: 0.7245\n",
      "Epoch 57/100\n",
      "327/327 - 1s - loss: 0.5049 - accuracy: 0.7320 - val_loss: 0.5141 - val_accuracy: 0.7347\n",
      "Epoch 58/100\n",
      "327/327 - 1s - loss: 0.5042 - accuracy: 0.7333 - val_loss: 0.5020 - val_accuracy: 0.7286\n",
      "Epoch 59/100\n",
      "327/327 - 1s - loss: 0.5032 - accuracy: 0.7333 - val_loss: 0.5178 - val_accuracy: 0.7092\n",
      "Epoch 60/100\n",
      "327/327 - 1s - loss: 0.5029 - accuracy: 0.7392 - val_loss: 0.5040 - val_accuracy: 0.7306\n",
      "Epoch 61/100\n",
      "327/327 - 1s - loss: 0.4986 - accuracy: 0.7353 - val_loss: 0.5084 - val_accuracy: 0.7316\n",
      "Epoch 62/100\n",
      "327/327 - 1s - loss: 0.5072 - accuracy: 0.7379 - val_loss: 0.4996 - val_accuracy: 0.7357\n",
      "Epoch 63/100\n",
      "327/327 - 1s - loss: 0.5043 - accuracy: 0.7351 - val_loss: 0.5003 - val_accuracy: 0.7347\n",
      "Epoch 64/100\n",
      "327/327 - 1s - loss: 0.4962 - accuracy: 0.7381 - val_loss: 0.5075 - val_accuracy: 0.7245\n",
      "Epoch 65/100\n",
      "327/327 - 1s - loss: 0.5018 - accuracy: 0.7312 - val_loss: 0.5311 - val_accuracy: 0.7276\n",
      "Epoch 66/100\n",
      "327/327 - 1s - loss: 0.4950 - accuracy: 0.7363 - val_loss: 0.5207 - val_accuracy: 0.7306\n",
      "Epoch 67/100\n",
      "327/327 - 1s - loss: 0.4964 - accuracy: 0.7422 - val_loss: 0.4985 - val_accuracy: 0.7388\n",
      "Epoch 68/100\n",
      "327/327 - 1s - loss: 0.4966 - accuracy: 0.7435 - val_loss: 0.5104 - val_accuracy: 0.7184\n",
      "Epoch 69/100\n",
      "327/327 - 1s - loss: 0.4935 - accuracy: 0.7325 - val_loss: 0.5126 - val_accuracy: 0.7296\n",
      "Epoch 70/100\n",
      "327/327 - 1s - loss: 0.4948 - accuracy: 0.7466 - val_loss: 0.5116 - val_accuracy: 0.7224\n",
      "Epoch 71/100\n",
      "327/327 - 0s - loss: 0.4956 - accuracy: 0.7425 - val_loss: 0.5061 - val_accuracy: 0.7255\n",
      "Epoch 72/100\n",
      "327/327 - 0s - loss: 0.4930 - accuracy: 0.7427 - val_loss: 0.5004 - val_accuracy: 0.7316\n",
      "Epoch 73/100\n",
      "327/327 - 0s - loss: 0.4923 - accuracy: 0.7476 - val_loss: 0.5317 - val_accuracy: 0.7184\n",
      "Epoch 74/100\n",
      "327/327 - 0s - loss: 0.4924 - accuracy: 0.7427 - val_loss: 0.5068 - val_accuracy: 0.7306\n",
      "Epoch 75/100\n",
      "327/327 - 0s - loss: 0.4951 - accuracy: 0.7409 - val_loss: 0.5027 - val_accuracy: 0.7316\n",
      "Epoch 76/100\n",
      "327/327 - 0s - loss: 0.4917 - accuracy: 0.7414 - val_loss: 0.5023 - val_accuracy: 0.7357\n",
      "Epoch 77/100\n",
      "327/327 - 0s - loss: 0.4915 - accuracy: 0.7460 - val_loss: 0.4974 - val_accuracy: 0.7378\n",
      "Epoch 78/100\n",
      "327/327 - 0s - loss: 0.4897 - accuracy: 0.7414 - val_loss: 0.5019 - val_accuracy: 0.7347\n",
      "Epoch 79/100\n",
      "327/327 - 0s - loss: 0.4875 - accuracy: 0.7494 - val_loss: 0.5005 - val_accuracy: 0.7337\n",
      "Epoch 80/100\n",
      "327/327 - 0s - loss: 0.4908 - accuracy: 0.7432 - val_loss: 0.4975 - val_accuracy: 0.7306\n",
      "Epoch 81/100\n",
      "327/327 - 0s - loss: 0.4921 - accuracy: 0.7425 - val_loss: 0.4955 - val_accuracy: 0.7265\n",
      "Epoch 82/100\n",
      "327/327 - 0s - loss: 0.4892 - accuracy: 0.7481 - val_loss: 0.5088 - val_accuracy: 0.7276\n",
      "Epoch 83/100\n",
      "327/327 - 1s - loss: 0.4851 - accuracy: 0.7453 - val_loss: 0.5038 - val_accuracy: 0.7235\n",
      "Epoch 84/100\n",
      "327/327 - 0s - loss: 0.4825 - accuracy: 0.7506 - val_loss: 0.5050 - val_accuracy: 0.7459\n",
      "Epoch 85/100\n",
      "327/327 - 0s - loss: 0.4905 - accuracy: 0.7463 - val_loss: 0.5029 - val_accuracy: 0.7265\n",
      "Epoch 86/100\n",
      "327/327 - 0s - loss: 0.4834 - accuracy: 0.7532 - val_loss: 0.5041 - val_accuracy: 0.7316\n",
      "Epoch 87/100\n",
      "327/327 - 0s - loss: 0.4852 - accuracy: 0.7511 - val_loss: 0.5288 - val_accuracy: 0.7194\n",
      "Epoch 88/100\n",
      "327/327 - 0s - loss: 0.4867 - accuracy: 0.7443 - val_loss: 0.5034 - val_accuracy: 0.7316\n",
      "Epoch 89/100\n",
      "327/327 - 0s - loss: 0.4841 - accuracy: 0.7478 - val_loss: 0.4997 - val_accuracy: 0.7469\n",
      "Epoch 90/100\n",
      "327/327 - 0s - loss: 0.4769 - accuracy: 0.7552 - val_loss: 0.5086 - val_accuracy: 0.7296\n",
      "Epoch 91/100\n",
      "327/327 - 0s - loss: 0.4799 - accuracy: 0.7489 - val_loss: 0.5023 - val_accuracy: 0.7357\n",
      "Epoch 92/100\n",
      "327/327 - 0s - loss: 0.4845 - accuracy: 0.7511 - val_loss: 0.5340 - val_accuracy: 0.7306\n",
      "Epoch 93/100\n",
      "327/327 - 0s - loss: 0.4811 - accuracy: 0.7542 - val_loss: 0.5030 - val_accuracy: 0.7398\n",
      "Epoch 94/100\n",
      "327/327 - 0s - loss: 0.4783 - accuracy: 0.7586 - val_loss: 0.5112 - val_accuracy: 0.7418\n",
      "Epoch 95/100\n",
      "327/327 - 0s - loss: 0.4801 - accuracy: 0.7489 - val_loss: 0.5013 - val_accuracy: 0.7398\n",
      "Epoch 96/100\n",
      "327/327 - 0s - loss: 0.4836 - accuracy: 0.7514 - val_loss: 0.4940 - val_accuracy: 0.7520\n",
      "Epoch 97/100\n",
      "327/327 - 0s - loss: 0.4785 - accuracy: 0.7586 - val_loss: 0.5219 - val_accuracy: 0.7316\n",
      "Epoch 98/100\n",
      "327/327 - 0s - loss: 0.4811 - accuracy: 0.7616 - val_loss: 0.4960 - val_accuracy: 0.7347\n",
      "Epoch 99/100\n",
      "327/327 - 0s - loss: 0.4810 - accuracy: 0.7463 - val_loss: 0.5186 - val_accuracy: 0.7337\n",
      "Epoch 100/100\n",
      "327/327 - 0s - loss: 0.4832 - accuracy: 0.7557 - val_loss: 0.4974 - val_accuracy: 0.7520\n"
     ]
    }
   ],
   "source": [
    "# Fit the model\n",
    "history = model.fit(X_train, y_train, validation_data= (X_test, y_test), epochs=100, batch_size=12, verbose=2)"
   ]
  },
  {
   "cell_type": "code",
   "execution_count": 17,
   "metadata": {
    "colab": {
     "base_uri": "https://localhost:8080/",
     "height": 295
    },
    "id": "1OEfhAv1HQC8",
    "outputId": "aca276e4-2b9f-4c93-c8e0-893df67b7218"
   },
   "outputs": [
    {
     "data": {
      "image/png": "[encoded data removed]",
      "text/plain": [
       "<Figure size 432x288 with 1 Axes>"
      ]
     },
     "metadata": {
      "needs_background": "light",
      "tags": []
     },
     "output_type": "display_data"
    }
   ],
   "source": [
    "#Visualize the models accuracy\n",
    "plt.plot(history.history['accuracy'])\n",
    "plt.plot(history.history['val_accuracy'])\n",
    "plt.title('Model Accuracy')\n",
    "plt.ylabel('Accuracy')\n",
    "plt.xlabel('Epoch')\n",
    "plt.legend(['Train', 'Val'], loc='upper left')\n",
    "plt.show()"
   ]
  },
  {
   "cell_type": "code",
   "execution_count": 18,
   "metadata": {
    "colab": {
     "base_uri": "https://localhost:8080/",
     "height": 295
    },
    "id": "YNjWdiBNHUTr",
    "outputId": "3041f118-4587-4b7d-cc28-dc82f459b8a3"
   },
   "outputs": [
    {
     "data": {
      "image/png": "[encoded data removed]",
      "text/plain": [
       "<Figure size 432x288 with 1 Axes>"
      ]
     },
     "metadata": {
      "needs_background": "light",
      "tags": []
     },
     "output_type": "display_data"
    }
   ],
   "source": [
    "plt.plot(history.history['loss'])\n",
    "plt.plot(history.history['val_loss'])\n",
    "plt.title('Model Loss')\n",
    "plt.ylabel('Loss')\n",
    "plt.xlabel('Epoch')\n",
    "plt.legend(['Train', 'Val'], loc='upper left')\n",
    "plt.show()"
   ]
  },
  {
   "cell_type": "code",
   "execution_count": 19,
   "metadata": {
    "colab": {
     "base_uri": "https://localhost:8080/",
     "height": 419
    },
    "id": "fZah_mXEC9NL",
    "outputId": "7d78c1b8-b7a6-41a5-fb02-65082ea1a9c6"
   },
   "outputs": [
    {
     "data": {
      "text/html": [
       "<div>\n",
       "<style scoped>\n",
       "    .dataframe tbody tr th:only-of-type {\n",
       "        vertical-align: middle;\n",
       "    }\n",
       "\n",
       "    .dataframe tbody tr th {\n",
       "        vertical-align: top;\n",
       "    }\n",
       "\n",
       "    .dataframe thead th {\n",
       "        text-align: right;\n",
       "    }\n",
       "</style>\n",
       "<table border=\"1\" class=\"dataframe\">\n",
       "  <thead>\n",
       "    <tr style=\"text-align: right;\">\n",
       "      <th></th>\n",
       "      <th>loss</th>\n",
       "      <th>accuracy</th>\n",
       "      <th>val_loss</th>\n",
       "      <th>val_accuracy</th>\n",
       "      <th>epoch</th>\n",
       "    </tr>\n",
       "  </thead>\n",
       "  <tbody>\n",
       "    <tr>\n",
       "      <th>95</th>\n",
       "      <td>0.483616</td>\n",
       "      <td>0.751404</td>\n",
       "      <td>0.494009</td>\n",
       "      <td>0.752041</td>\n",
       "      <td>95</td>\n",
       "    </tr>\n",
       "    <tr>\n",
       "      <th>80</th>\n",
       "      <td>0.492084</td>\n",
       "      <td>0.742471</td>\n",
       "      <td>0.495508</td>\n",
       "      <td>0.726531</td>\n",
       "      <td>80</td>\n",
       "    </tr>\n",
       "    <tr>\n",
       "      <th>97</th>\n",
       "      <td>0.481145</td>\n",
       "      <td>0.761613</td>\n",
       "      <td>0.495980</td>\n",
       "      <td>0.734694</td>\n",
       "      <td>97</td>\n",
       "    </tr>\n",
       "    <tr>\n",
       "      <th>76</th>\n",
       "      <td>0.491470</td>\n",
       "      <td>0.746044</td>\n",
       "      <td>0.497371</td>\n",
       "      <td>0.737755</td>\n",
       "      <td>76</td>\n",
       "    </tr>\n",
       "    <tr>\n",
       "      <th>99</th>\n",
       "      <td>0.483216</td>\n",
       "      <td>0.755743</td>\n",
       "      <td>0.497439</td>\n",
       "      <td>0.752041</td>\n",
       "      <td>99</td>\n",
       "    </tr>\n",
       "    <tr>\n",
       "      <th>...</th>\n",
       "      <td>...</td>\n",
       "      <td>...</td>\n",
       "      <td>...</td>\n",
       "      <td>...</td>\n",
       "      <td>...</td>\n",
       "    </tr>\n",
       "    <tr>\n",
       "      <th>7</th>\n",
       "      <td>0.562307</td>\n",
       "      <td>0.687851</td>\n",
       "      <td>0.567637</td>\n",
       "      <td>0.680612</td>\n",
       "      <td>7</td>\n",
       "    </tr>\n",
       "    <tr>\n",
       "      <th>0</th>\n",
       "      <td>0.686618</td>\n",
       "      <td>0.638846</td>\n",
       "      <td>0.568176</td>\n",
       "      <td>0.694898</td>\n",
       "      <td>0</td>\n",
       "    </tr>\n",
       "    <tr>\n",
       "      <th>2</th>\n",
       "      <td>0.604444</td>\n",
       "      <td>0.668709</td>\n",
       "      <td>0.575003</td>\n",
       "      <td>0.685714</td>\n",
       "      <td>2</td>\n",
       "    </tr>\n",
       "    <tr>\n",
       "      <th>1</th>\n",
       "      <td>0.625360</td>\n",
       "      <td>0.662583</td>\n",
       "      <td>0.585082</td>\n",
       "      <td>0.685714</td>\n",
       "      <td>1</td>\n",
       "    </tr>\n",
       "    <tr>\n",
       "      <th>46</th>\n",
       "      <td>0.510403</td>\n",
       "      <td>0.733027</td>\n",
       "      <td>0.586078</td>\n",
       "      <td>0.665306</td>\n",
       "      <td>46</td>\n",
       "    </tr>\n",
       "  </tbody>\n",
       "</table>\n",
       "<p>100 rows × 5 columns</p>\n",
       "</div>"
      ],
      "text/plain": [
       "        loss  accuracy  val_loss  val_accuracy  epoch\n",
       "95  0.483616  0.751404  0.494009      0.752041     95\n",
       "80  0.492084  0.742471  0.495508      0.726531     80\n",
       "97  0.481145  0.761613  0.495980      0.734694     97\n",
       "76  0.491470  0.746044  0.497371      0.737755     76\n",
       "99  0.483216  0.755743  0.497439      0.752041     99\n",
       "..       ...       ...       ...           ...    ...\n",
       "7   0.562307  0.687851  0.567637      0.680612      7\n",
       "0   0.686618  0.638846  0.568176      0.694898      0\n",
       "2   0.604444  0.668709  0.575003      0.685714      2\n",
       "1   0.625360  0.662583  0.585082      0.685714      1\n",
       "46  0.510403  0.733027  0.586078      0.665306     46\n",
       "\n",
       "[100 rows x 5 columns]"
      ]
     },
     "execution_count": 19,
     "metadata": {
      "tags": []
     },
     "output_type": "execute_result"
    }
   ],
   "source": [
    "history_dataframe = pd.DataFrame(history.history)\n",
    "history_dataframe['epoch'] = history.epoch\n",
    "history_dataframe.sort_values(by='val_loss', ascending=True)"
   ]
  },
  {
   "cell_type": "code",
   "execution_count": 20,
   "metadata": {
    "colab": {
     "base_uri": "https://localhost:8080/",
     "height": 51
    },
    "id": "haRzg-mmHeUG",
    "outputId": "f1689df5-7695-43df-93d7-1a5593cc819e"
   },
   "outputs": [
    {
     "name": "stdout",
     "output_type": "stream",
     "text": [
      "31/31 [==============================] - 0s 1ms/step - loss: 0.4974 - accuracy: 0.7520\n",
      "accuracy: 75.20%\n"
     ]
    }
   ],
   "source": [
    "#Evaluasi model\n",
    "scores = model.evaluate(X_test, y_test)\n",
    "print(\"%s: %.2f%%\" % (model.metrics_names[1], scores[1]*100))"
   ]
  },
  {
   "cell_type": "markdown",
   "metadata": {
    "id": "EMl6UHDBHhZ9"
   },
   "source": [
    "# Kesimpulan\n",
    "Hasil terbaik diperoleh pada epoch ke-95 dengan val_loss 0.4940 dan val_akurasi sebesar 75.2%, 2 % lebih besar dari percobaan sebelumnya. Hasil tersebut diperoleh menggunakan model deeper. Dilihat dari plot grafik loss & val_loss vs epoch, model ini tidak cenderung overfitting"
   ]
  }
 ],
 "metadata": {
  "colab": {
   "collapsed_sections": [],
   "name": "Copy of Quiz2_Togi_Wine.ipynb",
   "provenance": []
  },
  "kernelspec": {
   "display_name": "Python 3",
   "language": "python",
   "name": "python3"
  },
  "language_info": {
   "codemirror_mode": {
    "name": "ipython",
    "version": 3
   },
   "file_extension": ".py",
   "mimetype": "text/x-python",
   "name": "python",
   "nbconvert_exporter": "python",
   "pygments_lexer": "ipython3",
   "version": "3.8.5"
  }
 },
 "nbformat": 4,
 "nbformat_minor": 1
}
